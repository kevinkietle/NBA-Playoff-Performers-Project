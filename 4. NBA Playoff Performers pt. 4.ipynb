{
 "cells": [
  {
   "cell_type": "markdown",
   "id": "5143ae3e",
   "metadata": {},
   "source": [
    "## Playoff Performers Project Part 4 - Clustering"
   ]
  },
  {
   "cell_type": "markdown",
   "id": "be9d9a43",
   "metadata": {},
   "source": [
    "### Imports"
   ]
  },
  {
   "cell_type": "code",
   "execution_count": 1,
   "id": "86d64570",
   "metadata": {},
   "outputs": [],
   "source": [
    "import pandas as pd\n",
    "import numpy as np\n",
    "import matplotlib.pyplot as plt\n",
    "import seaborn as sns\n",
    "import scipy.stats as stats\n",
    "%matplotlib inline\n",
    "from sklearn.cluster import KMeans\n",
    "from sklearn.decomposition import PCA\n",
    "from sklearn.preprocessing import StandardScaler\n",
    "from sklearn.metrics import silhouette_score"
   ]
  },
  {
   "cell_type": "code",
   "execution_count": 2,
   "id": "430d9d05",
   "metadata": {},
   "outputs": [],
   "source": [
    "combined = pd.read_csv(\"C:/Users/kevin/Downloads/combined 2019-2023 v2.csv\")\n",
    "best_players = pd.read_csv(\"C:/Users/kevin/Downloads/best players combined 2019-2023 v2.csv\")"
   ]
  },
  {
   "cell_type": "code",
   "execution_count": 3,
   "id": "a81fe9fa",
   "metadata": {},
   "outputs": [],
   "source": [
    "best_players = pd.get_dummies(best_players,columns=['Pos_x'],drop_first=True)\n",
    "combined = pd.get_dummies(combined,columns=['Pos_x'],drop_first=True)"
   ]
  },
  {
   "cell_type": "markdown",
   "id": "62eacbb2",
   "metadata": {},
   "source": [
    "### Quick Analysis on Relevant Predictors from Part 3"
   ]
  },
  {
   "cell_type": "code",
   "execution_count": 64,
   "id": "64b41669",
   "metadata": {},
   "outputs": [
    {
     "name": "stderr",
     "output_type": "stream",
     "text": [
      "C:\\Users\\kevin\\AppData\\Local\\Temp\\ipykernel_20964\\3162671976.py:1: FutureWarning: The default value of numeric_only in DataFrame.corr is deprecated. In a future version, it will default to False. Select only valid columns or specify the value of numeric_only to silence this warning.\n",
      "  best_players.corr()['TS%'].sort_values()\n"
     ]
    },
    {
     "data": {
      "text/plain": [
       "VORP_diff     -0.466848\n",
       "3PAr_p        -0.288145\n",
       "3PAr          -0.279633\n",
       "PER_diff      -0.252066\n",
       "Pos_x_SG      -0.222703\n",
       "WS/48_diff    -0.208397\n",
       "STL%          -0.194879\n",
       "Pos_x_PG      -0.181184\n",
       "STL%_p        -0.130703\n",
       "AST%_p        -0.123547\n",
       "AST%          -0.064385\n",
       "TOV%           0.002742\n",
       "USG%_p         0.007141\n",
       "Age_x          0.009777\n",
       "USG%           0.022503\n",
       "Pos_x_SF       0.023387\n",
       "TOV%_p         0.025394\n",
       "G              0.041597\n",
       "MPG_p          0.054436\n",
       "MP             0.058105\n",
       "MPG            0.068632\n",
       "Pos_x_PF       0.075910\n",
       "DBPM_p         0.094676\n",
       "G_p            0.103721\n",
       "MP_p           0.109957\n",
       "abs_WS_diff    0.122381\n",
       "DWS_p          0.161620\n",
       "BPM_p          0.195736\n",
       "OBPM_p         0.200567\n",
       "DWS            0.207844\n",
       "Year           0.208515\n",
       "VORP_p         0.219411\n",
       "WS_p           0.258806\n",
       "PER_p          0.264617\n",
       "OWS_p          0.270782\n",
       "DBPM           0.288835\n",
       "FTr_p          0.291063\n",
       "BLK%_p         0.295479\n",
       "BLK%           0.312316\n",
       "DRB%_p         0.321802\n",
       "WS/48_p        0.328839\n",
       "TS%_p          0.337289\n",
       "DRB%           0.392824\n",
       "TRB%_p         0.395883\n",
       "ORB%           0.400295\n",
       "ORB%_p         0.402069\n",
       "TRB%           0.429959\n",
       "FTr            0.452692\n",
       "VORP           0.470838\n",
       "OBPM           0.478355\n",
       "PER            0.507463\n",
       "BPM            0.509783\n",
       "WS             0.612167\n",
       "OWS            0.664428\n",
       "WS/48          0.711376\n",
       "TS%            1.000000\n",
       "Name: TS%, dtype: float64"
      ]
     },
     "execution_count": 64,
     "metadata": {},
     "output_type": "execute_result"
    }
   ],
   "source": [
    "best_players.corr()['TS%'].sort_values()"
   ]
  },
  {
   "cell_type": "markdown",
   "id": "117a7c37",
   "metadata": {},
   "source": [
    "True shooting has a lot of correlation with those all in metrics, which is why higher TS is correlated to lower WS/48 diff."
   ]
  },
  {
   "cell_type": "code",
   "execution_count": 65,
   "id": "4dddffcf",
   "metadata": {},
   "outputs": [
    {
     "name": "stderr",
     "output_type": "stream",
     "text": [
      "C:\\Users\\kevin\\AppData\\Local\\Temp\\ipykernel_20964\\583089502.py:1: FutureWarning: The default value of numeric_only in DataFrame.corr is deprecated. In a future version, it will default to False. Select only valid columns or specify the value of numeric_only to silence this warning.\n",
      "  best_players.corr()['AST%'].sort_values()\n"
     ]
    },
    {
     "data": {
      "text/plain": [
       "VORP_diff     -0.547672\n",
       "BLK%          -0.270313\n",
       "Pos_x_SF      -0.244745\n",
       "ORB%          -0.195693\n",
       "BLK%_p        -0.172102\n",
       "Pos_x_PF      -0.142594\n",
       "TS%_p         -0.137702\n",
       "3PAr_p        -0.133452\n",
       "3PAr          -0.133204\n",
       "ORB%_p        -0.128367\n",
       "Pos_x_SG      -0.113800\n",
       "WS/48_diff    -0.073173\n",
       "TS%           -0.064385\n",
       "G             -0.062718\n",
       "PER_diff      -0.028783\n",
       "TRB%           0.003914\n",
       "TRB%_p         0.027324\n",
       "G_p            0.045730\n",
       "MP_p           0.090949\n",
       "DRB%           0.091058\n",
       "Year           0.094301\n",
       "DRB%_p         0.095026\n",
       "DWS            0.102550\n",
       "abs_WS_diff    0.104311\n",
       "DWS_p          0.124423\n",
       "MP             0.128188\n",
       "DBPM_p         0.163557\n",
       "WS/48_p        0.189402\n",
       "FTr_p          0.194945\n",
       "Age_x          0.204153\n",
       "WS_p           0.218726\n",
       "OWS_p          0.223176\n",
       "DBPM           0.242337\n",
       "STL%_p         0.274646\n",
       "FTr            0.287139\n",
       "STL%           0.331727\n",
       "MPG_p          0.344263\n",
       "TOV%_p         0.352017\n",
       "WS/48          0.352307\n",
       "WS             0.354296\n",
       "VORP_p         0.384035\n",
       "OWS            0.392437\n",
       "MPG            0.416283\n",
       "BPM_p          0.449670\n",
       "PER_p          0.449959\n",
       "OBPM_p         0.488622\n",
       "PER            0.529933\n",
       "TOV%           0.567994\n",
       "VORP           0.589352\n",
       "USG%           0.591557\n",
       "BPM            0.600596\n",
       "USG%_p         0.611255\n",
       "OBPM           0.611588\n",
       "Pos_x_PG       0.636095\n",
       "AST%_p         0.899005\n",
       "AST%           1.000000\n",
       "Name: AST%, dtype: float64"
      ]
     },
     "execution_count": 65,
     "metadata": {},
     "output_type": "execute_result"
    }
   ],
   "source": [
    "best_players.corr()['AST%'].sort_values()"
   ]
  },
  {
   "cell_type": "markdown",
   "id": "85e7653f",
   "metadata": {},
   "source": [
    "Assist percentage correlates a lot with usage and the ballhandler position, which is what I was theorizing about that archetype having higher variance from regular season to playoffs."
   ]
  },
  {
   "cell_type": "code",
   "execution_count": 66,
   "id": "f1d26e11",
   "metadata": {},
   "outputs": [
    {
     "name": "stderr",
     "output_type": "stream",
     "text": [
      "C:\\Users\\kevin\\AppData\\Local\\Temp\\ipykernel_20964\\2475991654.py:1: FutureWarning: The default value of numeric_only in DataFrame.corr is deprecated. In a future version, it will default to False. Select only valid columns or specify the value of numeric_only to silence this warning.\n",
      "  best_players.corr()['ORB%'].sort_values()\n"
     ]
    },
    {
     "data": {
      "text/plain": [
       "3PAr          -0.669336\n",
       "3PAr_p        -0.649511\n",
       "Pos_x_SG      -0.341369\n",
       "VORP_diff     -0.284541\n",
       "Pos_x_PG      -0.259756\n",
       "AST%          -0.195693\n",
       "MPG_p         -0.187602\n",
       "AST%_p        -0.171596\n",
       "PER_diff      -0.167832\n",
       "WS/48_diff    -0.160305\n",
       "Pos_x_SF      -0.151410\n",
       "Age_x         -0.150727\n",
       "STL%_p        -0.118314\n",
       "USG%_p        -0.100051\n",
       "USG%          -0.077679\n",
       "STL%          -0.027834\n",
       "MP_p          -0.019196\n",
       "MPG           -0.018535\n",
       "Year          -0.004754\n",
       "G_p            0.001165\n",
       "OBPM_p         0.026156\n",
       "VORP_p         0.066802\n",
       "MP             0.076928\n",
       "TOV%           0.089133\n",
       "Pos_x_PF       0.092894\n",
       "BPM_p          0.093276\n",
       "G              0.107194\n",
       "abs_WS_diff    0.108177\n",
       "OWS_p          0.113303\n",
       "DWS_p          0.121896\n",
       "WS_p           0.131407\n",
       "OBPM           0.135100\n",
       "TOV%_p         0.140117\n",
       "TS%_p          0.152633\n",
       "DBPM_p         0.187060\n",
       "WS/48_p        0.219536\n",
       "PER_p          0.228404\n",
       "VORP           0.267419\n",
       "BPM            0.273722\n",
       "OWS            0.333338\n",
       "FTr_p          0.371951\n",
       "PER            0.396596\n",
       "TS%            0.400295\n",
       "DBPM           0.407270\n",
       "WS             0.449633\n",
       "FTr            0.459202\n",
       "BLK%_p         0.495443\n",
       "DWS            0.495992\n",
       "WS/48          0.500875\n",
       "DRB%_p         0.616387\n",
       "BLK%           0.624035\n",
       "DRB%           0.722896\n",
       "TRB%_p         0.766730\n",
       "TRB%           0.858885\n",
       "ORB%_p         0.873573\n",
       "ORB%           1.000000\n",
       "Name: ORB%, dtype: float64"
      ]
     },
     "execution_count": 66,
     "metadata": {},
     "output_type": "execute_result"
    }
   ],
   "source": [
    "best_players.corr()['ORB%'].sort_values()"
   ]
  },
  {
   "cell_type": "markdown",
   "id": "36a9d828",
   "metadata": {},
   "source": [
    "The ORB% has high negative correlation to 3 point attempts and a decently high positive correlation to TS%. You can also assume it's mostly big men here with high ORB%, as evidenced the negative correlation to other positions that aren't center. "
   ]
  },
  {
   "cell_type": "code",
   "execution_count": 67,
   "id": "f71f0755",
   "metadata": {},
   "outputs": [
    {
     "data": {
      "text/plain": [
       "<seaborn.axisgrid.FacetGrid at 0x24bda0cac70>"
      ]
     },
     "execution_count": 67,
     "metadata": {},
     "output_type": "execute_result"
    },
    {
     "data": {
      "image/png": "[encoded data removed]",
      "text/plain": [
       "<Figure size 500x500 with 1 Axes>"
      ]
     },
     "metadata": {},
     "output_type": "display_data"
    }
   ],
   "source": [
    "sns.lmplot(x='ORB%', y='WS/48_diff', data=best_players)"
   ]
  },
  {
   "cell_type": "markdown",
   "id": "7c8a39d3",
   "metadata": {},
   "source": [
    "As you can see, as ORB% increases, the variance in the WS/48 diff decreases, which supports my thought that low usage big men are less prone to large swings from regular season to postseason. A lot of big men lose minutes in the playoffs because they are hunted on switches, but if they are good enough to still see at least 30 minutes a game, their production is less volatile from regular season to postseason. Players that fit this mold in my mind include guys like Robert Williams and Clint Capela, although even they may not play 30 minutes per game."
   ]
  },
  {
   "cell_type": "markdown",
   "id": "1a3bd8fc",
   "metadata": {},
   "source": [
    "### Clustering"
   ]
  },
  {
   "cell_type": "code",
   "execution_count": 4,
   "id": "872c9e34",
   "metadata": {},
   "outputs": [],
   "source": [
    "threshold = best_players['WS/48_diff'].quantile(0.9)  # Calculate the threshold value at the 90th percentile\n",
    "\n",
    "top_10_percent = best_players[best_players['WS/48_diff'] >= threshold]  # Filter the DataFrame based on the threshold value"
   ]
  },
  {
   "cell_type": "code",
   "execution_count": 5,
   "id": "f86bd424",
   "metadata": {},
   "outputs": [],
   "source": [
    "limit = best_players['WS/48_diff'].quantile(0.1)  # Calculate the threshold value at the 90th percentile\n",
    "\n",
    "bottom_10_percent = best_players[best_players['WS/48_diff'] <= limit]  # Filter the DataFrame based on the threshold value"
   ]
  },
  {
   "cell_type": "markdown",
   "id": "07c0c4c7",
   "metadata": {},
   "source": [
    "Created dataframes for the top 10 percentiles of players who raised their game in terms of WS/48 from regular season to postseason and bottom 10 percentiles."
   ]
  },
  {
   "cell_type": "code",
   "execution_count": 21,
   "id": "7bb152dd",
   "metadata": {},
   "outputs": [],
   "source": [
    "top_10_percent = top_10_percent.set_index('Player')\n",
    "top_10_percent = top_10_percent.reset_index()"
   ]
  },
  {
   "cell_type": "code",
   "execution_count": 19,
   "id": "23bc990d",
   "metadata": {},
   "outputs": [
    {
     "data": {
      "text/plain": [
       "Index(['Player', 'Age_x', 'Tm_x', 'G', 'MP', 'PER', 'TS%', '3PAr', 'FTr',\n",
       "       'ORB%', 'DRB%', 'TRB%', 'AST%', 'STL%', 'BLK%', 'TOV%', 'USG%', 'OWS',\n",
       "       'DWS', 'WS', 'WS/48', 'OBPM', 'DBPM', 'BPM', 'VORP', 'Year',\n",
       "       'SeasonType_x', 'MPG', 'G_p', 'MP_p', 'PER_p', 'TS%_p', '3PAr_p',\n",
       "       'FTr_p', 'ORB%_p', 'DRB%_p', 'TRB%_p', 'AST%_p', 'STL%_p', 'BLK%_p',\n",
       "       'TOV%_p', 'USG%_p', 'OWS_p', 'DWS_p', 'WS_p', 'WS/48_p', 'OBPM_p',\n",
       "       'DBPM_p', 'BPM_p', 'VORP_p', 'SeasonType_y', 'MPG_p', 'PER_diff',\n",
       "       'VORP_diff', 'WS/48_diff', 'abs_WS_diff', 'Pos_x_PF', 'Pos_x_PG',\n",
       "       'Pos_x_SF', 'Pos_x_SG'],\n",
       "      dtype='object')"
      ]
     },
     "execution_count": 19,
     "metadata": {},
     "output_type": "execute_result"
    }
   ],
   "source": [
    "top_10_percent.columns"
   ]
  },
  {
   "cell_type": "code",
   "execution_count": 22,
   "id": "e44aad63",
   "metadata": {},
   "outputs": [],
   "source": [
    "features = ['Age_x', 'G', 'MP', 'PER', 'TS%', '3PAr', 'FTr',\n",
    "            'ORB%', 'DRB%', 'TRB%', 'AST%', 'STL%', 'BLK%', 'TOV%', 'USG%', 'OWS',\n",
    "            'DWS', 'WS', 'WS/48', 'OBPM', 'DBPM', 'Year',\n",
    "            'MPG',  'Pos_x_PF', 'Pos_x_PG',\n",
    "            'Pos_x_SF', 'Pos_x_SG']\n",
    "# WS/48_diff not included because we already filtered out to the 10% based on that.\n",
    "\n",
    "x = top_10_percent[features].values\n",
    "x = StandardScaler().fit_transform(x)"
   ]
  },
  {
   "cell_type": "code",
   "execution_count": 23,
   "id": "477b6648",
   "metadata": {},
   "outputs": [
    {
     "data": {
      "text/plain": [
       "27"
      ]
     },
     "execution_count": 23,
     "metadata": {},
     "output_type": "execute_result"
    }
   ],
   "source": [
    "len(features)"
   ]
  },
  {
   "cell_type": "code",
   "execution_count": 24,
   "id": "d07bb0bb",
   "metadata": {},
   "outputs": [
    {
     "name": "stdout",
     "output_type": "stream",
     "text": [
      "For n_components = 2, explained variance ratio is 0.5308802987717227\n",
      "For n_components = 3, explained variance ratio is 0.6322804588235356\n",
      "For n_components = 4, explained variance ratio is 0.7149205708070892\n",
      "For n_components = 5, explained variance ratio is 0.7688995922778147\n",
      "For n_components = 6, explained variance ratio is 0.8164285344092876\n",
      "For n_components = 7, explained variance ratio is 0.8513758114485755\n",
      "For n_components = 8, explained variance ratio is 0.8818060232289479\n",
      "For n_components = 9, explained variance ratio is 0.9082204433600871\n",
      "For n_components = 10, explained variance ratio is 0.9303499622851473\n",
      "For n_components = 11, explained variance ratio is 0.9487441802273011\n",
      "For n_components = 12, explained variance ratio is 0.9646947705496789\n",
      "For n_components = 13, explained variance ratio is 0.9762865761242121\n",
      "For n_components = 14, explained variance ratio is 0.9857464247042478\n",
      "For n_components = 15, explained variance ratio is 0.9910374228560171\n",
      "For n_components = 16, explained variance ratio is 0.9943179769307804\n",
      "For n_components = 17, explained variance ratio is 0.9968065755245911\n",
      "For n_components = 18, explained variance ratio is 0.9980363194607282\n",
      "For n_components = 19, explained variance ratio is 0.9989481288998578\n",
      "For n_components = 20, explained variance ratio is 0.9993719927185402\n",
      "For n_components = 21, explained variance ratio is 0.9996694837378883\n",
      "For n_components = 22, explained variance ratio is 0.9998753875326911\n",
      "For n_components = 23, explained variance ratio is 0.9999550800964866\n",
      "For n_components = 24, explained variance ratio is 0.9999837387471667\n",
      "For n_components = 25, explained variance ratio is 0.9999923710994688\n",
      "For n_components = 26, explained variance ratio is 0.9999994431009462\n",
      "For n_components = 27, explained variance ratio is 0.9999999999999998\n"
     ]
    }
   ],
   "source": [
    "variance_list = []\n",
    "\n",
    "for n_components in range(2, 28):\n",
    "    pca = PCA(n_components = n_components)\n",
    "    components = pca.fit_transform(x)\n",
    "    variance = sum(pca.explained_variance_ratio_)\n",
    "    variance_list.append(variance)\n",
    "    print('For n_components = {}, explained variance ratio is {}'.format(n_components, variance))"
   ]
  },
  {
   "cell_type": "code",
   "execution_count": 25,
   "id": "6981f67a",
   "metadata": {},
   "outputs": [],
   "source": [
    "pca = PCA(n_components = 10)\n",
    "\n",
    "components = pca.fit_transform(x)\n",
    "\n",
    "pca_df = pd.DataFrame(data = components, columns = \n",
    "                      ['PC 1', 'PC 2', 'PC 3', 'PC 4', 'PC 5', 'PC 6', 'PC 7', 'PC 8', 'PC 9', 'PC 10'])\n",
    "\n",
    "pca_df['Player'] = top_10_percent['Player']"
   ]
  },
  {
   "cell_type": "code",
   "execution_count": 26,
   "id": "e39a4d76",
   "metadata": {},
   "outputs": [],
   "source": [
    "pca_df = pca_df[['Player','PC 1', 'PC 2', 'PC 3', 'PC 4', 'PC 5', 'PC 6', 'PC 7', 'PC 8', 'PC 9', 'PC 10']]"
   ]
  },
  {
   "cell_type": "code",
   "execution_count": 27,
   "id": "2d264000",
   "metadata": {},
   "outputs": [
    {
     "data": {
      "text/html": [
       "<div>\n",
       "<style scoped>\n",
       "    .dataframe tbody tr th:only-of-type {\n",
       "        vertical-align: middle;\n",
       "    }\n",
       "\n",
       "    .dataframe tbody tr th {\n",
       "        vertical-align: top;\n",
       "    }\n",
       "\n",
       "    .dataframe thead th {\n",
       "        text-align: right;\n",
       "    }\n",
       "</style>\n",
       "<table border=\"1\" class=\"dataframe\">\n",
       "  <thead>\n",
       "    <tr style=\"text-align: right;\">\n",
       "      <th></th>\n",
       "      <th>Player</th>\n",
       "      <th>PC 1</th>\n",
       "      <th>PC 2</th>\n",
       "      <th>PC 3</th>\n",
       "      <th>PC 4</th>\n",
       "      <th>PC 5</th>\n",
       "      <th>PC 6</th>\n",
       "      <th>PC 7</th>\n",
       "      <th>PC 8</th>\n",
       "      <th>PC 9</th>\n",
       "      <th>PC 10</th>\n",
       "    </tr>\n",
       "  </thead>\n",
       "  <tbody>\n",
       "    <tr>\n",
       "      <th>0</th>\n",
       "      <td>Anthony Davis</td>\n",
       "      <td>-5.602984</td>\n",
       "      <td>2.910894</td>\n",
       "      <td>-2.026699</td>\n",
       "      <td>-1.573457</td>\n",
       "      <td>0.345255</td>\n",
       "      <td>1.905306</td>\n",
       "      <td>-1.373732</td>\n",
       "      <td>0.259576</td>\n",
       "      <td>-0.014103</td>\n",
       "      <td>-0.760048</td>\n",
       "    </tr>\n",
       "    <tr>\n",
       "      <th>1</th>\n",
       "      <td>Anthony Edwards</td>\n",
       "      <td>0.280525</td>\n",
       "      <td>1.011214</td>\n",
       "      <td>3.382568</td>\n",
       "      <td>-1.559874</td>\n",
       "      <td>-1.259119</td>\n",
       "      <td>0.342023</td>\n",
       "      <td>1.365370</td>\n",
       "      <td>-0.356458</td>\n",
       "      <td>-1.745266</td>\n",
       "      <td>-0.705492</td>\n",
       "    </tr>\n",
       "    <tr>\n",
       "      <th>2</th>\n",
       "      <td>Caleb Martin</td>\n",
       "      <td>2.278258</td>\n",
       "      <td>1.808798</td>\n",
       "      <td>-1.028200</td>\n",
       "      <td>0.058334</td>\n",
       "      <td>-1.462711</td>\n",
       "      <td>-1.228298</td>\n",
       "      <td>0.678672</td>\n",
       "      <td>-1.371211</td>\n",
       "      <td>-0.794497</td>\n",
       "      <td>1.240796</td>\n",
       "    </tr>\n",
       "    <tr>\n",
       "      <th>3</th>\n",
       "      <td>Damian Lillard</td>\n",
       "      <td>-2.599954</td>\n",
       "      <td>-4.134163</td>\n",
       "      <td>1.041197</td>\n",
       "      <td>1.163528</td>\n",
       "      <td>-0.607945</td>\n",
       "      <td>0.600777</td>\n",
       "      <td>-1.861239</td>\n",
       "      <td>-0.098676</td>\n",
       "      <td>0.462149</td>\n",
       "      <td>-0.705444</td>\n",
       "    </tr>\n",
       "    <tr>\n",
       "      <th>4</th>\n",
       "      <td>De'Andre Hunter</td>\n",
       "      <td>4.767388</td>\n",
       "      <td>-0.756856</td>\n",
       "      <td>-1.704294</td>\n",
       "      <td>-1.081568</td>\n",
       "      <td>0.226435</td>\n",
       "      <td>-0.354876</td>\n",
       "      <td>0.369789</td>\n",
       "      <td>-0.991800</td>\n",
       "      <td>0.096692</td>\n",
       "      <td>0.156922</td>\n",
       "    </tr>\n",
       "  </tbody>\n",
       "</table>\n",
       "</div>"
      ],
      "text/plain": [
       "            Player      PC 1      PC 2      PC 3      PC 4      PC 5  \\\n",
       "0    Anthony Davis -5.602984  2.910894 -2.026699 -1.573457  0.345255   \n",
       "1  Anthony Edwards  0.280525  1.011214  3.382568 -1.559874 -1.259119   \n",
       "2     Caleb Martin  2.278258  1.808798 -1.028200  0.058334 -1.462711   \n",
       "3   Damian Lillard -2.599954 -4.134163  1.041197  1.163528 -0.607945   \n",
       "4  De'Andre Hunter  4.767388 -0.756856 -1.704294 -1.081568  0.226435   \n",
       "\n",
       "       PC 6      PC 7      PC 8      PC 9     PC 10  \n",
       "0  1.905306 -1.373732  0.259576 -0.014103 -0.760048  \n",
       "1  0.342023  1.365370 -0.356458 -1.745266 -0.705492  \n",
       "2 -1.228298  0.678672 -1.371211 -0.794497  1.240796  \n",
       "3  0.600777 -1.861239 -0.098676  0.462149 -0.705444  \n",
       "4 -0.354876  0.369789 -0.991800  0.096692  0.156922  "
      ]
     },
     "execution_count": 27,
     "metadata": {},
     "output_type": "execute_result"
    }
   ],
   "source": [
    "pca_df.head()"
   ]
  },
  {
   "cell_type": "code",
   "execution_count": 28,
   "id": "e6dbc889",
   "metadata": {},
   "outputs": [
    {
     "name": "stdout",
     "output_type": "stream",
     "text": [
      "[0.35612106 0.17475924 0.10140016 0.08264011 0.05397902 0.04752894\n",
      " 0.03494728 0.03043021 0.02641442 0.02212952]\n",
      "0.9303499622851473\n"
     ]
    }
   ],
   "source": [
    "print(pca.explained_variance_ratio_)\n",
    "print(sum((pca.explained_variance_ratio_)))"
   ]
  },
  {
   "cell_type": "markdown",
   "id": "207742f0",
   "metadata": {},
   "source": [
    "We ran a principal components analysis (PCA) to shrink the dimensions of the data down to 10 dimensions while still explaining 93% of the variance of the dataset. We then use a dataframe of these components to cluster the players in the top 10 percentile and bottom 10 percentile. The code below aims to find the optimal number of clusters."
   ]
  },
  {
   "cell_type": "code",
   "execution_count": 29,
   "id": "525299e3",
   "metadata": {},
   "outputs": [
    {
     "name": "stderr",
     "output_type": "stream",
     "text": [
      "C:\\Users\\kevin\\anaconda3\\lib\\site-packages\\sklearn\\cluster\\_kmeans.py:870: FutureWarning: The default value of `n_init` will change from 10 to 'auto' in 1.4. Set the value of `n_init` explicitly to suppress the warning\n",
      "  warnings.warn(\n",
      "C:\\Users\\kevin\\anaconda3\\lib\\site-packages\\sklearn\\cluster\\_kmeans.py:1382: UserWarning: KMeans is known to have a memory leak on Windows with MKL, when there are less chunks than available threads. You can avoid it by setting the environment variable OMP_NUM_THREADS=1.\n",
      "  warnings.warn(\n"
     ]
    },
    {
     "name": "stdout",
     "output_type": "stream",
     "text": [
      "For n_clusters = 2, silhouette score is 0.21739814348833705\n"
     ]
    },
    {
     "name": "stderr",
     "output_type": "stream",
     "text": [
      "C:\\Users\\kevin\\anaconda3\\lib\\site-packages\\sklearn\\cluster\\_kmeans.py:870: FutureWarning: The default value of `n_init` will change from 10 to 'auto' in 1.4. Set the value of `n_init` explicitly to suppress the warning\n",
      "  warnings.warn(\n",
      "C:\\Users\\kevin\\anaconda3\\lib\\site-packages\\sklearn\\cluster\\_kmeans.py:1382: UserWarning: KMeans is known to have a memory leak on Windows with MKL, when there are less chunks than available threads. You can avoid it by setting the environment variable OMP_NUM_THREADS=1.\n",
      "  warnings.warn(\n"
     ]
    },
    {
     "name": "stdout",
     "output_type": "stream",
     "text": [
      "For n_clusters = 3, silhouette score is 0.21260610698221882\n"
     ]
    },
    {
     "name": "stderr",
     "output_type": "stream",
     "text": [
      "C:\\Users\\kevin\\anaconda3\\lib\\site-packages\\sklearn\\cluster\\_kmeans.py:870: FutureWarning: The default value of `n_init` will change from 10 to 'auto' in 1.4. Set the value of `n_init` explicitly to suppress the warning\n",
      "  warnings.warn(\n",
      "C:\\Users\\kevin\\anaconda3\\lib\\site-packages\\sklearn\\cluster\\_kmeans.py:1382: UserWarning: KMeans is known to have a memory leak on Windows with MKL, when there are less chunks than available threads. You can avoid it by setting the environment variable OMP_NUM_THREADS=1.\n",
      "  warnings.warn(\n"
     ]
    },
    {
     "name": "stdout",
     "output_type": "stream",
     "text": [
      "For n_clusters = 4, silhouette score is 0.20293059257321733\n"
     ]
    },
    {
     "name": "stderr",
     "output_type": "stream",
     "text": [
      "C:\\Users\\kevin\\anaconda3\\lib\\site-packages\\sklearn\\cluster\\_kmeans.py:870: FutureWarning: The default value of `n_init` will change from 10 to 'auto' in 1.4. Set the value of `n_init` explicitly to suppress the warning\n",
      "  warnings.warn(\n",
      "C:\\Users\\kevin\\anaconda3\\lib\\site-packages\\sklearn\\cluster\\_kmeans.py:1382: UserWarning: KMeans is known to have a memory leak on Windows with MKL, when there are less chunks than available threads. You can avoid it by setting the environment variable OMP_NUM_THREADS=1.\n",
      "  warnings.warn(\n"
     ]
    },
    {
     "name": "stdout",
     "output_type": "stream",
     "text": [
      "For n_clusters = 5, silhouette score is 0.1794068159550936\n"
     ]
    },
    {
     "name": "stderr",
     "output_type": "stream",
     "text": [
      "C:\\Users\\kevin\\anaconda3\\lib\\site-packages\\sklearn\\cluster\\_kmeans.py:870: FutureWarning: The default value of `n_init` will change from 10 to 'auto' in 1.4. Set the value of `n_init` explicitly to suppress the warning\n",
      "  warnings.warn(\n",
      "C:\\Users\\kevin\\anaconda3\\lib\\site-packages\\sklearn\\cluster\\_kmeans.py:1382: UserWarning: KMeans is known to have a memory leak on Windows with MKL, when there are less chunks than available threads. You can avoid it by setting the environment variable OMP_NUM_THREADS=1.\n",
      "  warnings.warn(\n"
     ]
    },
    {
     "name": "stdout",
     "output_type": "stream",
     "text": [
      "For n_clusters = 6, silhouette score is 0.17887296524165658\n"
     ]
    },
    {
     "name": "stderr",
     "output_type": "stream",
     "text": [
      "C:\\Users\\kevin\\anaconda3\\lib\\site-packages\\sklearn\\cluster\\_kmeans.py:870: FutureWarning: The default value of `n_init` will change from 10 to 'auto' in 1.4. Set the value of `n_init` explicitly to suppress the warning\n",
      "  warnings.warn(\n",
      "C:\\Users\\kevin\\anaconda3\\lib\\site-packages\\sklearn\\cluster\\_kmeans.py:1382: UserWarning: KMeans is known to have a memory leak on Windows with MKL, when there are less chunks than available threads. You can avoid it by setting the environment variable OMP_NUM_THREADS=1.\n",
      "  warnings.warn(\n"
     ]
    },
    {
     "name": "stdout",
     "output_type": "stream",
     "text": [
      "For n_clusters = 7, silhouette score is 0.17886957775729062\n"
     ]
    },
    {
     "name": "stderr",
     "output_type": "stream",
     "text": [
      "C:\\Users\\kevin\\anaconda3\\lib\\site-packages\\sklearn\\cluster\\_kmeans.py:870: FutureWarning: The default value of `n_init` will change from 10 to 'auto' in 1.4. Set the value of `n_init` explicitly to suppress the warning\n",
      "  warnings.warn(\n",
      "C:\\Users\\kevin\\anaconda3\\lib\\site-packages\\sklearn\\cluster\\_kmeans.py:1382: UserWarning: KMeans is known to have a memory leak on Windows with MKL, when there are less chunks than available threads. You can avoid it by setting the environment variable OMP_NUM_THREADS=1.\n",
      "  warnings.warn(\n"
     ]
    },
    {
     "name": "stdout",
     "output_type": "stream",
     "text": [
      "For n_clusters = 8, silhouette score is 0.19444553049572982\n"
     ]
    },
    {
     "name": "stderr",
     "output_type": "stream",
     "text": [
      "C:\\Users\\kevin\\anaconda3\\lib\\site-packages\\sklearn\\cluster\\_kmeans.py:870: FutureWarning: The default value of `n_init` will change from 10 to 'auto' in 1.4. Set the value of `n_init` explicitly to suppress the warning\n",
      "  warnings.warn(\n",
      "C:\\Users\\kevin\\anaconda3\\lib\\site-packages\\sklearn\\cluster\\_kmeans.py:1382: UserWarning: KMeans is known to have a memory leak on Windows with MKL, when there are less chunks than available threads. You can avoid it by setting the environment variable OMP_NUM_THREADS=1.\n",
      "  warnings.warn(\n"
     ]
    },
    {
     "name": "stdout",
     "output_type": "stream",
     "text": [
      "For n_clusters = 9, silhouette score is 0.18814235002677507\n"
     ]
    },
    {
     "name": "stderr",
     "output_type": "stream",
     "text": [
      "C:\\Users\\kevin\\anaconda3\\lib\\site-packages\\sklearn\\cluster\\_kmeans.py:870: FutureWarning: The default value of `n_init` will change from 10 to 'auto' in 1.4. Set the value of `n_init` explicitly to suppress the warning\n",
      "  warnings.warn(\n",
      "C:\\Users\\kevin\\anaconda3\\lib\\site-packages\\sklearn\\cluster\\_kmeans.py:1382: UserWarning: KMeans is known to have a memory leak on Windows with MKL, when there are less chunks than available threads. You can avoid it by setting the environment variable OMP_NUM_THREADS=1.\n",
      "  warnings.warn(\n"
     ]
    },
    {
     "name": "stdout",
     "output_type": "stream",
     "text": [
      "For n_clusters = 10, silhouette score is 0.19321819673228416\n"
     ]
    },
    {
     "name": "stderr",
     "output_type": "stream",
     "text": [
      "C:\\Users\\kevin\\anaconda3\\lib\\site-packages\\sklearn\\cluster\\_kmeans.py:870: FutureWarning: The default value of `n_init` will change from 10 to 'auto' in 1.4. Set the value of `n_init` explicitly to suppress the warning\n",
      "  warnings.warn(\n",
      "C:\\Users\\kevin\\anaconda3\\lib\\site-packages\\sklearn\\cluster\\_kmeans.py:1382: UserWarning: KMeans is known to have a memory leak on Windows with MKL, when there are less chunks than available threads. You can avoid it by setting the environment variable OMP_NUM_THREADS=1.\n",
      "  warnings.warn(\n"
     ]
    },
    {
     "name": "stdout",
     "output_type": "stream",
     "text": [
      "For n_clusters = 11, silhouette score is 0.1875862010906865\n"
     ]
    },
    {
     "name": "stderr",
     "output_type": "stream",
     "text": [
      "C:\\Users\\kevin\\anaconda3\\lib\\site-packages\\sklearn\\cluster\\_kmeans.py:870: FutureWarning: The default value of `n_init` will change from 10 to 'auto' in 1.4. Set the value of `n_init` explicitly to suppress the warning\n",
      "  warnings.warn(\n",
      "C:\\Users\\kevin\\anaconda3\\lib\\site-packages\\sklearn\\cluster\\_kmeans.py:1382: UserWarning: KMeans is known to have a memory leak on Windows with MKL, when there are less chunks than available threads. You can avoid it by setting the environment variable OMP_NUM_THREADS=1.\n",
      "  warnings.warn(\n"
     ]
    },
    {
     "name": "stdout",
     "output_type": "stream",
     "text": [
      "For n_clusters = 12, silhouette score is 0.20846802661623753\n"
     ]
    },
    {
     "name": "stderr",
     "output_type": "stream",
     "text": [
      "C:\\Users\\kevin\\anaconda3\\lib\\site-packages\\sklearn\\cluster\\_kmeans.py:870: FutureWarning: The default value of `n_init` will change from 10 to 'auto' in 1.4. Set the value of `n_init` explicitly to suppress the warning\n",
      "  warnings.warn(\n",
      "C:\\Users\\kevin\\anaconda3\\lib\\site-packages\\sklearn\\cluster\\_kmeans.py:1382: UserWarning: KMeans is known to have a memory leak on Windows with MKL, when there are less chunks than available threads. You can avoid it by setting the environment variable OMP_NUM_THREADS=1.\n",
      "  warnings.warn(\n"
     ]
    },
    {
     "name": "stdout",
     "output_type": "stream",
     "text": [
      "For n_clusters = 13, silhouette score is 0.1685176157603538\n"
     ]
    },
    {
     "name": "stderr",
     "output_type": "stream",
     "text": [
      "C:\\Users\\kevin\\anaconda3\\lib\\site-packages\\sklearn\\cluster\\_kmeans.py:870: FutureWarning: The default value of `n_init` will change from 10 to 'auto' in 1.4. Set the value of `n_init` explicitly to suppress the warning\n",
      "  warnings.warn(\n",
      "C:\\Users\\kevin\\anaconda3\\lib\\site-packages\\sklearn\\cluster\\_kmeans.py:1382: UserWarning: KMeans is known to have a memory leak on Windows with MKL, when there are less chunks than available threads. You can avoid it by setting the environment variable OMP_NUM_THREADS=1.\n",
      "  warnings.warn(\n"
     ]
    },
    {
     "name": "stdout",
     "output_type": "stream",
     "text": [
      "For n_clusters = 14, silhouette score is 0.1895522291474249\n"
     ]
    },
    {
     "name": "stderr",
     "output_type": "stream",
     "text": [
      "C:\\Users\\kevin\\anaconda3\\lib\\site-packages\\sklearn\\cluster\\_kmeans.py:870: FutureWarning: The default value of `n_init` will change from 10 to 'auto' in 1.4. Set the value of `n_init` explicitly to suppress the warning\n",
      "  warnings.warn(\n",
      "C:\\Users\\kevin\\anaconda3\\lib\\site-packages\\sklearn\\cluster\\_kmeans.py:1382: UserWarning: KMeans is known to have a memory leak on Windows with MKL, when there are less chunks than available threads. You can avoid it by setting the environment variable OMP_NUM_THREADS=1.\n",
      "  warnings.warn(\n"
     ]
    },
    {
     "name": "stdout",
     "output_type": "stream",
     "text": [
      "For n_clusters = 15, silhouette score is 0.1614444541651759\n"
     ]
    },
    {
     "name": "stderr",
     "output_type": "stream",
     "text": [
      "C:\\Users\\kevin\\anaconda3\\lib\\site-packages\\sklearn\\cluster\\_kmeans.py:870: FutureWarning: The default value of `n_init` will change from 10 to 'auto' in 1.4. Set the value of `n_init` explicitly to suppress the warning\n",
      "  warnings.warn(\n",
      "C:\\Users\\kevin\\anaconda3\\lib\\site-packages\\sklearn\\cluster\\_kmeans.py:1382: UserWarning: KMeans is known to have a memory leak on Windows with MKL, when there are less chunks than available threads. You can avoid it by setting the environment variable OMP_NUM_THREADS=1.\n",
      "  warnings.warn(\n"
     ]
    },
    {
     "name": "stdout",
     "output_type": "stream",
     "text": [
      "For n_clusters = 16, silhouette score is 0.18480119116559954\n"
     ]
    },
    {
     "name": "stderr",
     "output_type": "stream",
     "text": [
      "C:\\Users\\kevin\\anaconda3\\lib\\site-packages\\sklearn\\cluster\\_kmeans.py:870: FutureWarning: The default value of `n_init` will change from 10 to 'auto' in 1.4. Set the value of `n_init` explicitly to suppress the warning\n",
      "  warnings.warn(\n",
      "C:\\Users\\kevin\\anaconda3\\lib\\site-packages\\sklearn\\cluster\\_kmeans.py:1382: UserWarning: KMeans is known to have a memory leak on Windows with MKL, when there are less chunks than available threads. You can avoid it by setting the environment variable OMP_NUM_THREADS=1.\n",
      "  warnings.warn(\n"
     ]
    },
    {
     "name": "stdout",
     "output_type": "stream",
     "text": [
      "For n_clusters = 17, silhouette score is 0.17254812989439755\n"
     ]
    },
    {
     "name": "stderr",
     "output_type": "stream",
     "text": [
      "C:\\Users\\kevin\\anaconda3\\lib\\site-packages\\sklearn\\cluster\\_kmeans.py:870: FutureWarning: The default value of `n_init` will change from 10 to 'auto' in 1.4. Set the value of `n_init` explicitly to suppress the warning\n",
      "  warnings.warn(\n",
      "C:\\Users\\kevin\\anaconda3\\lib\\site-packages\\sklearn\\cluster\\_kmeans.py:1382: UserWarning: KMeans is known to have a memory leak on Windows with MKL, when there are less chunks than available threads. You can avoid it by setting the environment variable OMP_NUM_THREADS=1.\n",
      "  warnings.warn(\n"
     ]
    },
    {
     "name": "stdout",
     "output_type": "stream",
     "text": [
      "For n_clusters = 18, silhouette score is 0.17896575559949127\n"
     ]
    },
    {
     "name": "stderr",
     "output_type": "stream",
     "text": [
      "C:\\Users\\kevin\\anaconda3\\lib\\site-packages\\sklearn\\cluster\\_kmeans.py:870: FutureWarning: The default value of `n_init` will change from 10 to 'auto' in 1.4. Set the value of `n_init` explicitly to suppress the warning\n",
      "  warnings.warn(\n",
      "C:\\Users\\kevin\\anaconda3\\lib\\site-packages\\sklearn\\cluster\\_kmeans.py:1382: UserWarning: KMeans is known to have a memory leak on Windows with MKL, when there are less chunks than available threads. You can avoid it by setting the environment variable OMP_NUM_THREADS=1.\n",
      "  warnings.warn(\n"
     ]
    },
    {
     "name": "stdout",
     "output_type": "stream",
     "text": [
      "For n_clusters = 19, silhouette score is 0.1736816756068145\n"
     ]
    }
   ],
   "source": [
    "x = np.column_stack((pca_df['PC 1'], pca_df['PC 2'], pca_df['PC 3'], pca_df['PC 4'], pca_df['PC 5'],\n",
    "                    pca_df['PC 6'], pca_df['PC 7'], pca_df['PC 8'], pca_df['PC 9'], pca_df['PC 10']))\n",
    "\n",
    "silhouette = []\n",
    "\n",
    "for n_clusters in range(2, 20):\n",
    "    kmeans = KMeans(n_clusters = n_clusters, random_state = 99)\n",
    "    cluster_labels = kmeans.fit_predict(x)\n",
    "    \n",
    "    centers = kmeans.cluster_centers_\n",
    "    \n",
    "    score = silhouette_score(x, cluster_labels)\n",
    "    silhouette.append(score)\n",
    "    print('For n_clusters = {}, silhouette score is {}'.format(n_clusters, score))"
   ]
  },
  {
   "cell_type": "markdown",
   "id": "104dbe32",
   "metadata": {},
   "source": [
    "For picking clusters, 4 clusters or 12 are good options to check out."
   ]
  },
  {
   "cell_type": "code",
   "execution_count": 30,
   "id": "9aa5d4a6",
   "metadata": {},
   "outputs": [
    {
     "data": {
      "text/plain": [
       "Text(0.5, 0.98, 'Identifying Optimal Cluster #')"
      ]
     },
     "execution_count": 30,
     "metadata": {},
     "output_type": "execute_result"
    },
    {
     "data": {
      "image/png": "[encoded data removed]",
      "text/plain": [
       "<Figure size 640x480 with 1 Axes>"
      ]
     },
     "metadata": {},
     "output_type": "display_data"
    }
   ],
   "source": [
    "plt.style.use('fivethirtyeight')\n",
    "\n",
    "silhouette_fig, ax = plt.subplots()\n",
    "\n",
    "ax.plot(range(2,20), silhouette)\n",
    "\n",
    "ax.set_xlabel('Number of clusters')\n",
    "ax.set_ylabel('Silhouette score')\n",
    "\n",
    "ax.set_xticks(np.arange(2,21, 3.0))\n",
    "\n",
    "silhouette_fig.suptitle('Identifying Optimal Cluster #', weight = 'bold', size = 18)"
   ]
  },
  {
   "cell_type": "code",
   "execution_count": 59,
   "id": "5cf6aff8",
   "metadata": {},
   "outputs": [
    {
     "name": "stderr",
     "output_type": "stream",
     "text": [
      "C:\\Users\\kevin\\anaconda3\\lib\\site-packages\\sklearn\\cluster\\_kmeans.py:870: FutureWarning: The default value of `n_init` will change from 10 to 'auto' in 1.4. Set the value of `n_init` explicitly to suppress the warning\n",
      "  warnings.warn(\n",
      "C:\\Users\\kevin\\anaconda3\\lib\\site-packages\\sklearn\\cluster\\_kmeans.py:1382: UserWarning: KMeans is known to have a memory leak on Windows with MKL, when there are less chunks than available threads. You can avoid it by setting the environment variable OMP_NUM_THREADS=1.\n",
      "  warnings.warn(\n"
     ]
    }
   ],
   "source": [
    "kmeans = KMeans(n_clusters = 4, random_state = 1)\n",
    "kmeans.fit(x)\n",
    "\n",
    "y_kmeans = kmeans.predict(x)"
   ]
  },
  {
   "cell_type": "code",
   "execution_count": 62,
   "id": "88e7a9b2",
   "metadata": {},
   "outputs": [
    {
     "data": {
      "text/html": [
       "<div>\n",
       "<style scoped>\n",
       "    .dataframe tbody tr th:only-of-type {\n",
       "        vertical-align: middle;\n",
       "    }\n",
       "\n",
       "    .dataframe tbody tr th {\n",
       "        vertical-align: top;\n",
       "    }\n",
       "\n",
       "    .dataframe thead th {\n",
       "        text-align: right;\n",
       "    }\n",
       "</style>\n",
       "<table border=\"1\" class=\"dataframe\">\n",
       "  <thead>\n",
       "    <tr style=\"text-align: right;\">\n",
       "      <th></th>\n",
       "      <th>Player</th>\n",
       "      <th>Cluster</th>\n",
       "    </tr>\n",
       "  </thead>\n",
       "  <tbody>\n",
       "    <tr>\n",
       "      <th>14</th>\n",
       "      <td>Jaylen Brown</td>\n",
       "      <td>0</td>\n",
       "    </tr>\n",
       "    <tr>\n",
       "      <th>27</th>\n",
       "      <td>Rui Hachimura</td>\n",
       "      <td>0</td>\n",
       "    </tr>\n",
       "    <tr>\n",
       "      <th>2</th>\n",
       "      <td>Caleb Martin</td>\n",
       "      <td>0</td>\n",
       "    </tr>\n",
       "    <tr>\n",
       "      <th>22</th>\n",
       "      <td>Mike Conley</td>\n",
       "      <td>0</td>\n",
       "    </tr>\n",
       "    <tr>\n",
       "      <th>4</th>\n",
       "      <td>De'Andre Hunter</td>\n",
       "      <td>0</td>\n",
       "    </tr>\n",
       "    <tr>\n",
       "      <th>7</th>\n",
       "      <td>Dillon Brooks</td>\n",
       "      <td>0</td>\n",
       "    </tr>\n",
       "    <tr>\n",
       "      <th>9</th>\n",
       "      <td>Eric Gordon</td>\n",
       "      <td>0</td>\n",
       "    </tr>\n",
       "    <tr>\n",
       "      <th>28</th>\n",
       "      <td>Seth Curry</td>\n",
       "      <td>0</td>\n",
       "    </tr>\n",
       "    <tr>\n",
       "      <th>20</th>\n",
       "      <td>LeBron James</td>\n",
       "      <td>1</td>\n",
       "    </tr>\n",
       "    <tr>\n",
       "      <th>19</th>\n",
       "      <td>LeBron James</td>\n",
       "      <td>1</td>\n",
       "    </tr>\n",
       "    <tr>\n",
       "      <th>17</th>\n",
       "      <td>Kawhi Leonard</td>\n",
       "      <td>1</td>\n",
       "    </tr>\n",
       "    <tr>\n",
       "      <th>16</th>\n",
       "      <td>Kawhi Leonard</td>\n",
       "      <td>1</td>\n",
       "    </tr>\n",
       "    <tr>\n",
       "      <th>15</th>\n",
       "      <td>Jimmy Butler</td>\n",
       "      <td>1</td>\n",
       "    </tr>\n",
       "    <tr>\n",
       "      <th>29</th>\n",
       "      <td>Stephen Curry</td>\n",
       "      <td>1</td>\n",
       "    </tr>\n",
       "    <tr>\n",
       "      <th>3</th>\n",
       "      <td>Damian Lillard</td>\n",
       "      <td>1</td>\n",
       "    </tr>\n",
       "    <tr>\n",
       "      <th>13</th>\n",
       "      <td>James Harden</td>\n",
       "      <td>1</td>\n",
       "    </tr>\n",
       "    <tr>\n",
       "      <th>12</th>\n",
       "      <td>Jamal Murray</td>\n",
       "      <td>2</td>\n",
       "    </tr>\n",
       "    <tr>\n",
       "      <th>11</th>\n",
       "      <td>Jamal Murray</td>\n",
       "      <td>2</td>\n",
       "    </tr>\n",
       "    <tr>\n",
       "      <th>10</th>\n",
       "      <td>Jalen Brunson</td>\n",
       "      <td>2</td>\n",
       "    </tr>\n",
       "    <tr>\n",
       "      <th>8</th>\n",
       "      <td>Donovan Mitchell</td>\n",
       "      <td>2</td>\n",
       "    </tr>\n",
       "    <tr>\n",
       "      <th>6</th>\n",
       "      <td>Devin Booker</td>\n",
       "      <td>2</td>\n",
       "    </tr>\n",
       "    <tr>\n",
       "      <th>5</th>\n",
       "      <td>DeMar DeRozan</td>\n",
       "      <td>2</td>\n",
       "    </tr>\n",
       "    <tr>\n",
       "      <th>25</th>\n",
       "      <td>RJ Barrett</td>\n",
       "      <td>2</td>\n",
       "    </tr>\n",
       "    <tr>\n",
       "      <th>1</th>\n",
       "      <td>Anthony Edwards</td>\n",
       "      <td>2</td>\n",
       "    </tr>\n",
       "    <tr>\n",
       "      <th>18</th>\n",
       "      <td>Kristaps Porziņģis</td>\n",
       "      <td>3</td>\n",
       "    </tr>\n",
       "    <tr>\n",
       "      <th>21</th>\n",
       "      <td>Marc Gasol</td>\n",
       "      <td>3</td>\n",
       "    </tr>\n",
       "    <tr>\n",
       "      <th>23</th>\n",
       "      <td>Nikola Jokić</td>\n",
       "      <td>3</td>\n",
       "    </tr>\n",
       "    <tr>\n",
       "      <th>24</th>\n",
       "      <td>P.J. Tucker</td>\n",
       "      <td>3</td>\n",
       "    </tr>\n",
       "    <tr>\n",
       "      <th>26</th>\n",
       "      <td>Robert Covington</td>\n",
       "      <td>3</td>\n",
       "    </tr>\n",
       "    <tr>\n",
       "      <th>0</th>\n",
       "      <td>Anthony Davis</td>\n",
       "      <td>3</td>\n",
       "    </tr>\n",
       "  </tbody>\n",
       "</table>\n",
       "</div>"
      ],
      "text/plain": [
       "                Player  Cluster\n",
       "14        Jaylen Brown        0\n",
       "27       Rui Hachimura        0\n",
       "2         Caleb Martin        0\n",
       "22         Mike Conley        0\n",
       "4      De'Andre Hunter        0\n",
       "7        Dillon Brooks        0\n",
       "9          Eric Gordon        0\n",
       "28          Seth Curry        0\n",
       "20        LeBron James        1\n",
       "19        LeBron James        1\n",
       "17       Kawhi Leonard        1\n",
       "16       Kawhi Leonard        1\n",
       "15        Jimmy Butler        1\n",
       "29       Stephen Curry        1\n",
       "3       Damian Lillard        1\n",
       "13        James Harden        1\n",
       "12        Jamal Murray        2\n",
       "11        Jamal Murray        2\n",
       "10       Jalen Brunson        2\n",
       "8     Donovan Mitchell        2\n",
       "6         Devin Booker        2\n",
       "5        DeMar DeRozan        2\n",
       "25          RJ Barrett        2\n",
       "1      Anthony Edwards        2\n",
       "18  Kristaps Porziņģis        3\n",
       "21          Marc Gasol        3\n",
       "23        Nikola Jokić        3\n",
       "24         P.J. Tucker        3\n",
       "26    Robert Covington        3\n",
       "0        Anthony Davis        3"
      ]
     },
     "execution_count": 62,
     "metadata": {},
     "output_type": "execute_result"
    }
   ],
   "source": [
    "df_cluster = pd.DataFrame()\n",
    "\n",
    "df_cluster['Player'] = top_10_percent['Player']\n",
    "df_cluster['Cluster'] = y_kmeans\n",
    "df_cluster.sort_values(by='Cluster')"
   ]
  },
  {
   "cell_type": "markdown",
   "id": "57f320e6",
   "metadata": {},
   "source": [
    "Looks like this clustered by play style/position when we do 4 clusters. Let's try 12 clusters."
   ]
  },
  {
   "cell_type": "code",
   "execution_count": 31,
   "id": "eb8397ad",
   "metadata": {},
   "outputs": [
    {
     "name": "stderr",
     "output_type": "stream",
     "text": [
      "C:\\Users\\kevin\\anaconda3\\lib\\site-packages\\sklearn\\cluster\\_kmeans.py:870: FutureWarning: The default value of `n_init` will change from 10 to 'auto' in 1.4. Set the value of `n_init` explicitly to suppress the warning\n",
      "  warnings.warn(\n",
      "C:\\Users\\kevin\\anaconda3\\lib\\site-packages\\sklearn\\cluster\\_kmeans.py:1382: UserWarning: KMeans is known to have a memory leak on Windows with MKL, when there are less chunks than available threads. You can avoid it by setting the environment variable OMP_NUM_THREADS=1.\n",
      "  warnings.warn(\n"
     ]
    }
   ],
   "source": [
    "kmeans = KMeans(n_clusters = 12, random_state = 1)\n",
    "kmeans.fit(x)\n",
    "\n",
    "y_kmeans = kmeans.predict(x)"
   ]
  },
  {
   "cell_type": "code",
   "execution_count": 32,
   "id": "0cd9e1ed",
   "metadata": {},
   "outputs": [
    {
     "data": {
      "text/html": [
       "<div>\n",
       "<style scoped>\n",
       "    .dataframe tbody tr th:only-of-type {\n",
       "        vertical-align: middle;\n",
       "    }\n",
       "\n",
       "    .dataframe tbody tr th {\n",
       "        vertical-align: top;\n",
       "    }\n",
       "\n",
       "    .dataframe thead th {\n",
       "        text-align: right;\n",
       "    }\n",
       "</style>\n",
       "<table border=\"1\" class=\"dataframe\">\n",
       "  <thead>\n",
       "    <tr style=\"text-align: right;\">\n",
       "      <th></th>\n",
       "      <th>Player</th>\n",
       "      <th>Cluster</th>\n",
       "    </tr>\n",
       "  </thead>\n",
       "  <tbody>\n",
       "    <tr>\n",
       "      <th>22</th>\n",
       "      <td>Mike Conley</td>\n",
       "      <td>0</td>\n",
       "    </tr>\n",
       "    <tr>\n",
       "      <th>12</th>\n",
       "      <td>Jamal Murray</td>\n",
       "      <td>0</td>\n",
       "    </tr>\n",
       "    <tr>\n",
       "      <th>11</th>\n",
       "      <td>Jamal Murray</td>\n",
       "      <td>0</td>\n",
       "    </tr>\n",
       "    <tr>\n",
       "      <th>17</th>\n",
       "      <td>Kawhi Leonard</td>\n",
       "      <td>1</td>\n",
       "    </tr>\n",
       "    <tr>\n",
       "      <th>16</th>\n",
       "      <td>Kawhi Leonard</td>\n",
       "      <td>1</td>\n",
       "    </tr>\n",
       "    <tr>\n",
       "      <th>15</th>\n",
       "      <td>Jimmy Butler</td>\n",
       "      <td>1</td>\n",
       "    </tr>\n",
       "    <tr>\n",
       "      <th>29</th>\n",
       "      <td>Stephen Curry</td>\n",
       "      <td>2</td>\n",
       "    </tr>\n",
       "    <tr>\n",
       "      <th>20</th>\n",
       "      <td>LeBron James</td>\n",
       "      <td>2</td>\n",
       "    </tr>\n",
       "    <tr>\n",
       "      <th>19</th>\n",
       "      <td>LeBron James</td>\n",
       "      <td>2</td>\n",
       "    </tr>\n",
       "    <tr>\n",
       "      <th>13</th>\n",
       "      <td>James Harden</td>\n",
       "      <td>2</td>\n",
       "    </tr>\n",
       "    <tr>\n",
       "      <th>26</th>\n",
       "      <td>Robert Covington</td>\n",
       "      <td>3</td>\n",
       "    </tr>\n",
       "    <tr>\n",
       "      <th>24</th>\n",
       "      <td>P.J. Tucker</td>\n",
       "      <td>3</td>\n",
       "    </tr>\n",
       "    <tr>\n",
       "      <th>0</th>\n",
       "      <td>Anthony Davis</td>\n",
       "      <td>4</td>\n",
       "    </tr>\n",
       "    <tr>\n",
       "      <th>9</th>\n",
       "      <td>Eric Gordon</td>\n",
       "      <td>5</td>\n",
       "    </tr>\n",
       "    <tr>\n",
       "      <th>4</th>\n",
       "      <td>De'Andre Hunter</td>\n",
       "      <td>5</td>\n",
       "    </tr>\n",
       "    <tr>\n",
       "      <th>1</th>\n",
       "      <td>Anthony Edwards</td>\n",
       "      <td>6</td>\n",
       "    </tr>\n",
       "    <tr>\n",
       "      <th>25</th>\n",
       "      <td>RJ Barrett</td>\n",
       "      <td>6</td>\n",
       "    </tr>\n",
       "    <tr>\n",
       "      <th>5</th>\n",
       "      <td>DeMar DeRozan</td>\n",
       "      <td>6</td>\n",
       "    </tr>\n",
       "    <tr>\n",
       "      <th>14</th>\n",
       "      <td>Jaylen Brown</td>\n",
       "      <td>6</td>\n",
       "    </tr>\n",
       "    <tr>\n",
       "      <th>6</th>\n",
       "      <td>Devin Booker</td>\n",
       "      <td>6</td>\n",
       "    </tr>\n",
       "    <tr>\n",
       "      <th>8</th>\n",
       "      <td>Donovan Mitchell</td>\n",
       "      <td>6</td>\n",
       "    </tr>\n",
       "    <tr>\n",
       "      <th>7</th>\n",
       "      <td>Dillon Brooks</td>\n",
       "      <td>7</td>\n",
       "    </tr>\n",
       "    <tr>\n",
       "      <th>2</th>\n",
       "      <td>Caleb Martin</td>\n",
       "      <td>7</td>\n",
       "    </tr>\n",
       "    <tr>\n",
       "      <th>27</th>\n",
       "      <td>Rui Hachimura</td>\n",
       "      <td>7</td>\n",
       "    </tr>\n",
       "    <tr>\n",
       "      <th>23</th>\n",
       "      <td>Nikola Jokić</td>\n",
       "      <td>8</td>\n",
       "    </tr>\n",
       "    <tr>\n",
       "      <th>18</th>\n",
       "      <td>Kristaps Porziņģis</td>\n",
       "      <td>9</td>\n",
       "    </tr>\n",
       "    <tr>\n",
       "      <th>21</th>\n",
       "      <td>Marc Gasol</td>\n",
       "      <td>9</td>\n",
       "    </tr>\n",
       "    <tr>\n",
       "      <th>10</th>\n",
       "      <td>Jalen Brunson</td>\n",
       "      <td>10</td>\n",
       "    </tr>\n",
       "    <tr>\n",
       "      <th>3</th>\n",
       "      <td>Damian Lillard</td>\n",
       "      <td>10</td>\n",
       "    </tr>\n",
       "    <tr>\n",
       "      <th>28</th>\n",
       "      <td>Seth Curry</td>\n",
       "      <td>11</td>\n",
       "    </tr>\n",
       "  </tbody>\n",
       "</table>\n",
       "</div>"
      ],
      "text/plain": [
       "                Player  Cluster\n",
       "22         Mike Conley        0\n",
       "12        Jamal Murray        0\n",
       "11        Jamal Murray        0\n",
       "17       Kawhi Leonard        1\n",
       "16       Kawhi Leonard        1\n",
       "15        Jimmy Butler        1\n",
       "29       Stephen Curry        2\n",
       "20        LeBron James        2\n",
       "19        LeBron James        2\n",
       "13        James Harden        2\n",
       "26    Robert Covington        3\n",
       "24         P.J. Tucker        3\n",
       "0        Anthony Davis        4\n",
       "9          Eric Gordon        5\n",
       "4      De'Andre Hunter        5\n",
       "1      Anthony Edwards        6\n",
       "25          RJ Barrett        6\n",
       "5        DeMar DeRozan        6\n",
       "14        Jaylen Brown        6\n",
       "6         Devin Booker        6\n",
       "8     Donovan Mitchell        6\n",
       "7        Dillon Brooks        7\n",
       "2         Caleb Martin        7\n",
       "27       Rui Hachimura        7\n",
       "23        Nikola Jokić        8\n",
       "18  Kristaps Porziņģis        9\n",
       "21          Marc Gasol        9\n",
       "10       Jalen Brunson       10\n",
       "3       Damian Lillard       10\n",
       "28          Seth Curry       11"
      ]
     },
     "execution_count": 32,
     "metadata": {},
     "output_type": "execute_result"
    }
   ],
   "source": [
    "df_cluster = pd.DataFrame()\n",
    "\n",
    "df_cluster['Player'] = top_10_percent['Player']\n",
    "df_cluster['Cluster'] = y_kmeans\n",
    "df_cluster.sort_values(by='Cluster')"
   ]
  },
  {
   "cell_type": "markdown",
   "id": "97c03f91",
   "metadata": {},
   "source": [
    "This is insightful. Category 11 with Seth Curry can be seen as an exception. Some of the categories that stand out to me which contrast with the groups analysis you will see later from the worst 10 percent is category 9: which is floor spacing big men with paint protection and categories 6 and 7: wings with good size and can defend. Overall, the main theme is versatility. Big men that can shoot can raise their game, perimeter players that can defend remain strong contributors."
   ]
  },
  {
   "cell_type": "markdown",
   "id": "fd28e00b",
   "metadata": {},
   "source": [
    "***Doing the same now on the bottom 10 percentile. (Guys whose games fell off most from regular to post season)***"
   ]
  },
  {
   "cell_type": "code",
   "execution_count": 6,
   "id": "ecf4d79e",
   "metadata": {},
   "outputs": [],
   "source": [
    "bottom_10_percent = bottom_10_percent.set_index('Player')\n",
    "bottom_10_percent = bottom_10_percent.reset_index()"
   ]
  },
  {
   "cell_type": "code",
   "execution_count": 7,
   "id": "73616ed5",
   "metadata": {},
   "outputs": [],
   "source": [
    "features = ['Age_x', 'G', 'MP', 'PER', 'TS%', '3PAr', 'FTr',\n",
    "            'ORB%', 'DRB%', 'TRB%', 'AST%', 'STL%', 'BLK%', 'TOV%', 'USG%', 'OWS',\n",
    "            'DWS', 'WS', 'WS/48', 'OBPM', 'DBPM', 'Year',\n",
    "            'MPG',  'Pos_x_PF', 'Pos_x_PG',\n",
    "            'Pos_x_SF', 'Pos_x_SG']\n",
    "# WS/48_diff not included because we already filtered out to the 10% based on that.\n",
    "\n",
    "x = bottom_10_percent[features].values\n",
    "x = StandardScaler().fit_transform(x)"
   ]
  },
  {
   "cell_type": "code",
   "execution_count": 8,
   "id": "bed278a1",
   "metadata": {},
   "outputs": [
    {
     "name": "stdout",
     "output_type": "stream",
     "text": [
      "For n_components = 2, explained variance ratio is 0.5263284931249472\n",
      "For n_components = 3, explained variance ratio is 0.621928890538312\n",
      "For n_components = 4, explained variance ratio is 0.6996410481662296\n",
      "For n_components = 5, explained variance ratio is 0.7666094577989258\n",
      "For n_components = 6, explained variance ratio is 0.8253268991223309\n",
      "For n_components = 7, explained variance ratio is 0.8627778017368924\n",
      "For n_components = 8, explained variance ratio is 0.8945797691088728\n",
      "For n_components = 9, explained variance ratio is 0.9213766255348013\n",
      "For n_components = 10, explained variance ratio is 0.9410851041054012\n",
      "For n_components = 11, explained variance ratio is 0.9544389436732774\n",
      "For n_components = 12, explained variance ratio is 0.9669972261526003\n",
      "For n_components = 13, explained variance ratio is 0.9767111804644386\n",
      "For n_components = 14, explained variance ratio is 0.9837579542116038\n",
      "For n_components = 15, explained variance ratio is 0.9895986565750174\n",
      "For n_components = 16, explained variance ratio is 0.9930765591223342\n",
      "For n_components = 17, explained variance ratio is 0.9962311961138078\n",
      "For n_components = 18, explained variance ratio is 0.9979673976308957\n",
      "For n_components = 19, explained variance ratio is 0.9988599568743769\n",
      "For n_components = 20, explained variance ratio is 0.999459744944958\n",
      "For n_components = 21, explained variance ratio is 0.9997575974019521\n",
      "For n_components = 22, explained variance ratio is 0.9999111043618031\n",
      "For n_components = 23, explained variance ratio is 0.9999710101377002\n",
      "For n_components = 24, explained variance ratio is 0.9999880235388356\n",
      "For n_components = 25, explained variance ratio is 0.9999992365990066\n",
      "For n_components = 26, explained variance ratio is 0.9999998734431038\n",
      "For n_components = 27, explained variance ratio is 1.0000000000000002\n"
     ]
    }
   ],
   "source": [
    "variance_list = []\n",
    "\n",
    "for n_components in range(2, 28):\n",
    "    pca = PCA(n_components = n_components)\n",
    "    components = pca.fit_transform(x)\n",
    "    variance = sum(pca.explained_variance_ratio_)\n",
    "    variance_list.append(variance)\n",
    "    print('For n_components = {}, explained variance ratio is {}'.format(n_components, variance))"
   ]
  },
  {
   "cell_type": "code",
   "execution_count": 9,
   "id": "c447ddb3",
   "metadata": {},
   "outputs": [],
   "source": [
    "pca = PCA(n_components = 10)\n",
    "\n",
    "components = pca.fit_transform(x)\n",
    "\n",
    "pca_df = pd.DataFrame(data = components, columns = \n",
    "                      ['PC 1', 'PC 2', 'PC 3', 'PC 4', 'PC 5', 'PC 6', 'PC 7', 'PC 8', 'PC 9', 'PC 10'])\n",
    "\n",
    "pca_df['Player'] = bottom_10_percent['Player']"
   ]
  },
  {
   "cell_type": "code",
   "execution_count": 10,
   "id": "acd379cb",
   "metadata": {},
   "outputs": [],
   "source": [
    "pca_df = pca_df[['Player','PC 1', 'PC 2', 'PC 3', 'PC 4', 'PC 5', 'PC 6', 'PC 7', 'PC 8', 'PC 9', 'PC 10']]"
   ]
  },
  {
   "cell_type": "code",
   "execution_count": 11,
   "id": "7c4419f9",
   "metadata": {},
   "outputs": [
    {
     "data": {
      "text/html": [
       "<div>\n",
       "<style scoped>\n",
       "    .dataframe tbody tr th:only-of-type {\n",
       "        vertical-align: middle;\n",
       "    }\n",
       "\n",
       "    .dataframe tbody tr th {\n",
       "        vertical-align: top;\n",
       "    }\n",
       "\n",
       "    .dataframe thead th {\n",
       "        text-align: right;\n",
       "    }\n",
       "</style>\n",
       "<table border=\"1\" class=\"dataframe\">\n",
       "  <thead>\n",
       "    <tr style=\"text-align: right;\">\n",
       "      <th></th>\n",
       "      <th>Player</th>\n",
       "      <th>PC 1</th>\n",
       "      <th>PC 2</th>\n",
       "      <th>PC 3</th>\n",
       "      <th>PC 4</th>\n",
       "      <th>PC 5</th>\n",
       "      <th>PC 6</th>\n",
       "      <th>PC 7</th>\n",
       "      <th>PC 8</th>\n",
       "      <th>PC 9</th>\n",
       "      <th>PC 10</th>\n",
       "    </tr>\n",
       "  </thead>\n",
       "  <tbody>\n",
       "    <tr>\n",
       "      <th>0</th>\n",
       "      <td>Andre Drummond</td>\n",
       "      <td>-3.408309</td>\n",
       "      <td>-4.135380</td>\n",
       "      <td>3.445033</td>\n",
       "      <td>1.704694</td>\n",
       "      <td>0.862320</td>\n",
       "      <td>-0.229749</td>\n",
       "      <td>-0.754592</td>\n",
       "      <td>-1.116496</td>\n",
       "      <td>1.495905</td>\n",
       "      <td>0.090629</td>\n",
       "    </tr>\n",
       "    <tr>\n",
       "      <th>1</th>\n",
       "      <td>Bam Adebayo</td>\n",
       "      <td>-2.811155</td>\n",
       "      <td>-1.368660</td>\n",
       "      <td>0.587289</td>\n",
       "      <td>0.611461</td>\n",
       "      <td>0.542684</td>\n",
       "      <td>1.287299</td>\n",
       "      <td>-0.008645</td>\n",
       "      <td>0.713674</td>\n",
       "      <td>-1.146263</td>\n",
       "      <td>0.120704</td>\n",
       "    </tr>\n",
       "    <tr>\n",
       "      <th>2</th>\n",
       "      <td>Bradley Beal</td>\n",
       "      <td>1.042587</td>\n",
       "      <td>1.636921</td>\n",
       "      <td>0.633212</td>\n",
       "      <td>0.088060</td>\n",
       "      <td>-0.191965</td>\n",
       "      <td>-1.057626</td>\n",
       "      <td>-0.399845</td>\n",
       "      <td>2.264114</td>\n",
       "      <td>0.506179</td>\n",
       "      <td>0.628725</td>\n",
       "    </tr>\n",
       "    <tr>\n",
       "      <th>3</th>\n",
       "      <td>CJ McCollum</td>\n",
       "      <td>2.897845</td>\n",
       "      <td>1.416617</td>\n",
       "      <td>-0.854065</td>\n",
       "      <td>0.071443</td>\n",
       "      <td>-0.634545</td>\n",
       "      <td>-1.787039</td>\n",
       "      <td>-1.560013</td>\n",
       "      <td>1.628939</td>\n",
       "      <td>0.313048</td>\n",
       "      <td>0.490043</td>\n",
       "    </tr>\n",
       "    <tr>\n",
       "      <th>4</th>\n",
       "      <td>D'Angelo Russell</td>\n",
       "      <td>2.410066</td>\n",
       "      <td>2.130429</td>\n",
       "      <td>0.836669</td>\n",
       "      <td>-0.524206</td>\n",
       "      <td>0.260040</td>\n",
       "      <td>2.440931</td>\n",
       "      <td>-0.355586</td>\n",
       "      <td>-0.185936</td>\n",
       "      <td>0.275948</td>\n",
       "      <td>-0.490515</td>\n",
       "    </tr>\n",
       "  </tbody>\n",
       "</table>\n",
       "</div>"
      ],
      "text/plain": [
       "             Player      PC 1      PC 2      PC 3      PC 4      PC 5  \\\n",
       "0    Andre Drummond -3.408309 -4.135380  3.445033  1.704694  0.862320   \n",
       "1       Bam Adebayo -2.811155 -1.368660  0.587289  0.611461  0.542684   \n",
       "2      Bradley Beal  1.042587  1.636921  0.633212  0.088060 -0.191965   \n",
       "3       CJ McCollum  2.897845  1.416617 -0.854065  0.071443 -0.634545   \n",
       "4  D'Angelo Russell  2.410066  2.130429  0.836669 -0.524206  0.260040   \n",
       "\n",
       "       PC 6      PC 7      PC 8      PC 9     PC 10  \n",
       "0 -0.229749 -0.754592 -1.116496  1.495905  0.090629  \n",
       "1  1.287299 -0.008645  0.713674 -1.146263  0.120704  \n",
       "2 -1.057626 -0.399845  2.264114  0.506179  0.628725  \n",
       "3 -1.787039 -1.560013  1.628939  0.313048  0.490043  \n",
       "4  2.440931 -0.355586 -0.185936  0.275948 -0.490515  "
      ]
     },
     "execution_count": 11,
     "metadata": {},
     "output_type": "execute_result"
    }
   ],
   "source": [
    "pca_df.head()"
   ]
  },
  {
   "cell_type": "code",
   "execution_count": 12,
   "id": "634790a5",
   "metadata": {},
   "outputs": [
    {
     "name": "stdout",
     "output_type": "stream",
     "text": [
      "[0.36538689 0.16094161 0.0956004  0.07771216 0.06696841 0.05871744\n",
      " 0.0374509  0.03180197 0.02679686 0.01970848]\n",
      "0.9410851041054012\n"
     ]
    }
   ],
   "source": [
    "print(pca.explained_variance_ratio_)\n",
    "print(sum((pca.explained_variance_ratio_)))"
   ]
  },
  {
   "cell_type": "code",
   "execution_count": 13,
   "id": "3ba8cd92",
   "metadata": {},
   "outputs": [
    {
     "name": "stderr",
     "output_type": "stream",
     "text": [
      "C:\\Users\\kevin\\anaconda3\\lib\\site-packages\\sklearn\\cluster\\_kmeans.py:870: FutureWarning: The default value of `n_init` will change from 10 to 'auto' in 1.4. Set the value of `n_init` explicitly to suppress the warning\n",
      "  warnings.warn(\n",
      "C:\\Users\\kevin\\anaconda3\\lib\\site-packages\\sklearn\\cluster\\_kmeans.py:1382: UserWarning: KMeans is known to have a memory leak on Windows with MKL, when there are less chunks than available threads. You can avoid it by setting the environment variable OMP_NUM_THREADS=1.\n",
      "  warnings.warn(\n"
     ]
    },
    {
     "name": "stdout",
     "output_type": "stream",
     "text": [
      "For n_clusters = 2, silhouette score is 0.20942474267227967\n"
     ]
    },
    {
     "name": "stderr",
     "output_type": "stream",
     "text": [
      "C:\\Users\\kevin\\anaconda3\\lib\\site-packages\\sklearn\\cluster\\_kmeans.py:870: FutureWarning: The default value of `n_init` will change from 10 to 'auto' in 1.4. Set the value of `n_init` explicitly to suppress the warning\n",
      "  warnings.warn(\n",
      "C:\\Users\\kevin\\anaconda3\\lib\\site-packages\\sklearn\\cluster\\_kmeans.py:1382: UserWarning: KMeans is known to have a memory leak on Windows with MKL, when there are less chunks than available threads. You can avoid it by setting the environment variable OMP_NUM_THREADS=1.\n",
      "  warnings.warn(\n"
     ]
    },
    {
     "name": "stdout",
     "output_type": "stream",
     "text": [
      "For n_clusters = 3, silhouette score is 0.18377018622362343\n"
     ]
    },
    {
     "name": "stderr",
     "output_type": "stream",
     "text": [
      "C:\\Users\\kevin\\anaconda3\\lib\\site-packages\\sklearn\\cluster\\_kmeans.py:870: FutureWarning: The default value of `n_init` will change from 10 to 'auto' in 1.4. Set the value of `n_init` explicitly to suppress the warning\n",
      "  warnings.warn(\n",
      "C:\\Users\\kevin\\anaconda3\\lib\\site-packages\\sklearn\\cluster\\_kmeans.py:1382: UserWarning: KMeans is known to have a memory leak on Windows with MKL, when there are less chunks than available threads. You can avoid it by setting the environment variable OMP_NUM_THREADS=1.\n",
      "  warnings.warn(\n"
     ]
    },
    {
     "name": "stdout",
     "output_type": "stream",
     "text": [
      "For n_clusters = 4, silhouette score is 0.15908780237356737\n"
     ]
    },
    {
     "name": "stderr",
     "output_type": "stream",
     "text": [
      "C:\\Users\\kevin\\anaconda3\\lib\\site-packages\\sklearn\\cluster\\_kmeans.py:870: FutureWarning: The default value of `n_init` will change from 10 to 'auto' in 1.4. Set the value of `n_init` explicitly to suppress the warning\n",
      "  warnings.warn(\n",
      "C:\\Users\\kevin\\anaconda3\\lib\\site-packages\\sklearn\\cluster\\_kmeans.py:1382: UserWarning: KMeans is known to have a memory leak on Windows with MKL, when there are less chunks than available threads. You can avoid it by setting the environment variable OMP_NUM_THREADS=1.\n",
      "  warnings.warn(\n"
     ]
    },
    {
     "name": "stdout",
     "output_type": "stream",
     "text": [
      "For n_clusters = 5, silhouette score is 0.15971612786533487\n"
     ]
    },
    {
     "name": "stderr",
     "output_type": "stream",
     "text": [
      "C:\\Users\\kevin\\anaconda3\\lib\\site-packages\\sklearn\\cluster\\_kmeans.py:870: FutureWarning: The default value of `n_init` will change from 10 to 'auto' in 1.4. Set the value of `n_init` explicitly to suppress the warning\n",
      "  warnings.warn(\n",
      "C:\\Users\\kevin\\anaconda3\\lib\\site-packages\\sklearn\\cluster\\_kmeans.py:1382: UserWarning: KMeans is known to have a memory leak on Windows with MKL, when there are less chunks than available threads. You can avoid it by setting the environment variable OMP_NUM_THREADS=1.\n",
      "  warnings.warn(\n"
     ]
    },
    {
     "name": "stdout",
     "output_type": "stream",
     "text": [
      "For n_clusters = 6, silhouette score is 0.1846732855099197\n"
     ]
    },
    {
     "name": "stderr",
     "output_type": "stream",
     "text": [
      "C:\\Users\\kevin\\anaconda3\\lib\\site-packages\\sklearn\\cluster\\_kmeans.py:870: FutureWarning: The default value of `n_init` will change from 10 to 'auto' in 1.4. Set the value of `n_init` explicitly to suppress the warning\n",
      "  warnings.warn(\n",
      "C:\\Users\\kevin\\anaconda3\\lib\\site-packages\\sklearn\\cluster\\_kmeans.py:1382: UserWarning: KMeans is known to have a memory leak on Windows with MKL, when there are less chunks than available threads. You can avoid it by setting the environment variable OMP_NUM_THREADS=1.\n",
      "  warnings.warn(\n"
     ]
    },
    {
     "name": "stdout",
     "output_type": "stream",
     "text": [
      "For n_clusters = 7, silhouette score is 0.16840411346373382\n"
     ]
    },
    {
     "name": "stderr",
     "output_type": "stream",
     "text": [
      "C:\\Users\\kevin\\anaconda3\\lib\\site-packages\\sklearn\\cluster\\_kmeans.py:870: FutureWarning: The default value of `n_init` will change from 10 to 'auto' in 1.4. Set the value of `n_init` explicitly to suppress the warning\n",
      "  warnings.warn(\n",
      "C:\\Users\\kevin\\anaconda3\\lib\\site-packages\\sklearn\\cluster\\_kmeans.py:1382: UserWarning: KMeans is known to have a memory leak on Windows with MKL, when there are less chunks than available threads. You can avoid it by setting the environment variable OMP_NUM_THREADS=1.\n",
      "  warnings.warn(\n"
     ]
    },
    {
     "name": "stdout",
     "output_type": "stream",
     "text": [
      "For n_clusters = 8, silhouette score is 0.21940711086584527\n"
     ]
    },
    {
     "name": "stderr",
     "output_type": "stream",
     "text": [
      "C:\\Users\\kevin\\anaconda3\\lib\\site-packages\\sklearn\\cluster\\_kmeans.py:870: FutureWarning: The default value of `n_init` will change from 10 to 'auto' in 1.4. Set the value of `n_init` explicitly to suppress the warning\n",
      "  warnings.warn(\n",
      "C:\\Users\\kevin\\anaconda3\\lib\\site-packages\\sklearn\\cluster\\_kmeans.py:1382: UserWarning: KMeans is known to have a memory leak on Windows with MKL, when there are less chunks than available threads. You can avoid it by setting the environment variable OMP_NUM_THREADS=1.\n",
      "  warnings.warn(\n"
     ]
    },
    {
     "name": "stdout",
     "output_type": "stream",
     "text": [
      "For n_clusters = 9, silhouette score is 0.23221767845552665\n"
     ]
    },
    {
     "name": "stderr",
     "output_type": "stream",
     "text": [
      "C:\\Users\\kevin\\anaconda3\\lib\\site-packages\\sklearn\\cluster\\_kmeans.py:870: FutureWarning: The default value of `n_init` will change from 10 to 'auto' in 1.4. Set the value of `n_init` explicitly to suppress the warning\n",
      "  warnings.warn(\n",
      "C:\\Users\\kevin\\anaconda3\\lib\\site-packages\\sklearn\\cluster\\_kmeans.py:1382: UserWarning: KMeans is known to have a memory leak on Windows with MKL, when there are less chunks than available threads. You can avoid it by setting the environment variable OMP_NUM_THREADS=1.\n",
      "  warnings.warn(\n"
     ]
    },
    {
     "name": "stdout",
     "output_type": "stream",
     "text": [
      "For n_clusters = 10, silhouette score is 0.2514061107179692\n"
     ]
    },
    {
     "name": "stderr",
     "output_type": "stream",
     "text": [
      "C:\\Users\\kevin\\anaconda3\\lib\\site-packages\\sklearn\\cluster\\_kmeans.py:870: FutureWarning: The default value of `n_init` will change from 10 to 'auto' in 1.4. Set the value of `n_init` explicitly to suppress the warning\n",
      "  warnings.warn(\n",
      "C:\\Users\\kevin\\anaconda3\\lib\\site-packages\\sklearn\\cluster\\_kmeans.py:1382: UserWarning: KMeans is known to have a memory leak on Windows with MKL, when there are less chunks than available threads. You can avoid it by setting the environment variable OMP_NUM_THREADS=1.\n",
      "  warnings.warn(\n"
     ]
    },
    {
     "name": "stdout",
     "output_type": "stream",
     "text": [
      "For n_clusters = 11, silhouette score is 0.24983222858315254\n"
     ]
    },
    {
     "name": "stderr",
     "output_type": "stream",
     "text": [
      "C:\\Users\\kevin\\anaconda3\\lib\\site-packages\\sklearn\\cluster\\_kmeans.py:870: FutureWarning: The default value of `n_init` will change from 10 to 'auto' in 1.4. Set the value of `n_init` explicitly to suppress the warning\n",
      "  warnings.warn(\n",
      "C:\\Users\\kevin\\anaconda3\\lib\\site-packages\\sklearn\\cluster\\_kmeans.py:1382: UserWarning: KMeans is known to have a memory leak on Windows with MKL, when there are less chunks than available threads. You can avoid it by setting the environment variable OMP_NUM_THREADS=1.\n",
      "  warnings.warn(\n"
     ]
    },
    {
     "name": "stdout",
     "output_type": "stream",
     "text": [
      "For n_clusters = 12, silhouette score is 0.27967735646110725\n"
     ]
    },
    {
     "name": "stderr",
     "output_type": "stream",
     "text": [
      "C:\\Users\\kevin\\anaconda3\\lib\\site-packages\\sklearn\\cluster\\_kmeans.py:870: FutureWarning: The default value of `n_init` will change from 10 to 'auto' in 1.4. Set the value of `n_init` explicitly to suppress the warning\n",
      "  warnings.warn(\n",
      "C:\\Users\\kevin\\anaconda3\\lib\\site-packages\\sklearn\\cluster\\_kmeans.py:1382: UserWarning: KMeans is known to have a memory leak on Windows with MKL, when there are less chunks than available threads. You can avoid it by setting the environment variable OMP_NUM_THREADS=1.\n",
      "  warnings.warn(\n"
     ]
    },
    {
     "name": "stdout",
     "output_type": "stream",
     "text": [
      "For n_clusters = 13, silhouette score is 0.2489296259008563\n"
     ]
    },
    {
     "name": "stderr",
     "output_type": "stream",
     "text": [
      "C:\\Users\\kevin\\anaconda3\\lib\\site-packages\\sklearn\\cluster\\_kmeans.py:870: FutureWarning: The default value of `n_init` will change from 10 to 'auto' in 1.4. Set the value of `n_init` explicitly to suppress the warning\n",
      "  warnings.warn(\n",
      "C:\\Users\\kevin\\anaconda3\\lib\\site-packages\\sklearn\\cluster\\_kmeans.py:1382: UserWarning: KMeans is known to have a memory leak on Windows with MKL, when there are less chunks than available threads. You can avoid it by setting the environment variable OMP_NUM_THREADS=1.\n",
      "  warnings.warn(\n"
     ]
    },
    {
     "name": "stdout",
     "output_type": "stream",
     "text": [
      "For n_clusters = 14, silhouette score is 0.26256458388512244\n"
     ]
    },
    {
     "name": "stderr",
     "output_type": "stream",
     "text": [
      "C:\\Users\\kevin\\anaconda3\\lib\\site-packages\\sklearn\\cluster\\_kmeans.py:870: FutureWarning: The default value of `n_init` will change from 10 to 'auto' in 1.4. Set the value of `n_init` explicitly to suppress the warning\n",
      "  warnings.warn(\n",
      "C:\\Users\\kevin\\anaconda3\\lib\\site-packages\\sklearn\\cluster\\_kmeans.py:1382: UserWarning: KMeans is known to have a memory leak on Windows with MKL, when there are less chunks than available threads. You can avoid it by setting the environment variable OMP_NUM_THREADS=1.\n",
      "  warnings.warn(\n"
     ]
    },
    {
     "name": "stdout",
     "output_type": "stream",
     "text": [
      "For n_clusters = 15, silhouette score is 0.29602329102324093\n"
     ]
    },
    {
     "name": "stderr",
     "output_type": "stream",
     "text": [
      "C:\\Users\\kevin\\anaconda3\\lib\\site-packages\\sklearn\\cluster\\_kmeans.py:870: FutureWarning: The default value of `n_init` will change from 10 to 'auto' in 1.4. Set the value of `n_init` explicitly to suppress the warning\n",
      "  warnings.warn(\n",
      "C:\\Users\\kevin\\anaconda3\\lib\\site-packages\\sklearn\\cluster\\_kmeans.py:1382: UserWarning: KMeans is known to have a memory leak on Windows with MKL, when there are less chunks than available threads. You can avoid it by setting the environment variable OMP_NUM_THREADS=1.\n",
      "  warnings.warn(\n"
     ]
    },
    {
     "name": "stdout",
     "output_type": "stream",
     "text": [
      "For n_clusters = 16, silhouette score is 0.27813862234181835\n"
     ]
    },
    {
     "name": "stderr",
     "output_type": "stream",
     "text": [
      "C:\\Users\\kevin\\anaconda3\\lib\\site-packages\\sklearn\\cluster\\_kmeans.py:870: FutureWarning: The default value of `n_init` will change from 10 to 'auto' in 1.4. Set the value of `n_init` explicitly to suppress the warning\n",
      "  warnings.warn(\n",
      "C:\\Users\\kevin\\anaconda3\\lib\\site-packages\\sklearn\\cluster\\_kmeans.py:1382: UserWarning: KMeans is known to have a memory leak on Windows with MKL, when there are less chunks than available threads. You can avoid it by setting the environment variable OMP_NUM_THREADS=1.\n",
      "  warnings.warn(\n"
     ]
    },
    {
     "name": "stdout",
     "output_type": "stream",
     "text": [
      "For n_clusters = 17, silhouette score is 0.26333442090754916\n"
     ]
    },
    {
     "name": "stderr",
     "output_type": "stream",
     "text": [
      "C:\\Users\\kevin\\anaconda3\\lib\\site-packages\\sklearn\\cluster\\_kmeans.py:870: FutureWarning: The default value of `n_init` will change from 10 to 'auto' in 1.4. Set the value of `n_init` explicitly to suppress the warning\n",
      "  warnings.warn(\n",
      "C:\\Users\\kevin\\anaconda3\\lib\\site-packages\\sklearn\\cluster\\_kmeans.py:1382: UserWarning: KMeans is known to have a memory leak on Windows with MKL, when there are less chunks than available threads. You can avoid it by setting the environment variable OMP_NUM_THREADS=1.\n",
      "  warnings.warn(\n"
     ]
    },
    {
     "name": "stdout",
     "output_type": "stream",
     "text": [
      "For n_clusters = 18, silhouette score is 0.24889096843147013\n"
     ]
    },
    {
     "name": "stderr",
     "output_type": "stream",
     "text": [
      "C:\\Users\\kevin\\anaconda3\\lib\\site-packages\\sklearn\\cluster\\_kmeans.py:870: FutureWarning: The default value of `n_init` will change from 10 to 'auto' in 1.4. Set the value of `n_init` explicitly to suppress the warning\n",
      "  warnings.warn(\n",
      "C:\\Users\\kevin\\anaconda3\\lib\\site-packages\\sklearn\\cluster\\_kmeans.py:1382: UserWarning: KMeans is known to have a memory leak on Windows with MKL, when there are less chunks than available threads. You can avoid it by setting the environment variable OMP_NUM_THREADS=1.\n",
      "  warnings.warn(\n"
     ]
    },
    {
     "name": "stdout",
     "output_type": "stream",
     "text": [
      "For n_clusters = 19, silhouette score is 0.24634729874748199\n"
     ]
    }
   ],
   "source": [
    "x = np.column_stack((pca_df['PC 1'], pca_df['PC 2'], pca_df['PC 3'], pca_df['PC 4'], pca_df['PC 5'],\n",
    "                    pca_df['PC 6'], pca_df['PC 7'], pca_df['PC 8'], pca_df['PC 9'], pca_df['PC 10']))\n",
    "\n",
    "silhouette = []\n",
    "\n",
    "for n_clusters in range(2, 20):\n",
    "    kmeans = KMeans(n_clusters = n_clusters, random_state = 99)\n",
    "    cluster_labels = kmeans.fit_predict(x)\n",
    "    \n",
    "    centers = kmeans.cluster_centers_\n",
    "    \n",
    "    score = silhouette_score(x, cluster_labels)\n",
    "    silhouette.append(score)\n",
    "    print('For n_clusters = {}, silhouette score is {}'.format(n_clusters, score))"
   ]
  },
  {
   "cell_type": "code",
   "execution_count": 14,
   "id": "e3749bd6",
   "metadata": {},
   "outputs": [
    {
     "data": {
      "text/plain": [
       "Text(0.5, 0.98, 'Identifying Optimal Cluster #')"
      ]
     },
     "execution_count": 14,
     "metadata": {},
     "output_type": "execute_result"
    },
    {
     "data": {
      "image/png": "[encoded data removed]",
      "text/plain": [
       "<Figure size 640x480 with 1 Axes>"
      ]
     },
     "metadata": {},
     "output_type": "display_data"
    }
   ],
   "source": [
    "plt.style.use('fivethirtyeight')\n",
    "\n",
    "silhouette_fig, ax = plt.subplots()\n",
    "\n",
    "ax.plot(range(2,20), silhouette)\n",
    "\n",
    "ax.set_xlabel('Number of clusters')\n",
    "ax.set_ylabel('Silhouette score')\n",
    "\n",
    "ax.set_xticks(np.arange(2,21, 3.0))\n",
    "\n",
    "silhouette_fig.suptitle('Identifying Optimal Cluster #', weight = 'bold', size = 18)"
   ]
  },
  {
   "cell_type": "markdown",
   "id": "28b119ff",
   "metadata": {},
   "source": [
    "We will try 8 and 12 clusters. 15 clusters has high silhouette score but with the data sample size of the bottom 10 percent (31 people), each cluster would be like 2 people."
   ]
  },
  {
   "cell_type": "code",
   "execution_count": 16,
   "id": "80c3e459",
   "metadata": {},
   "outputs": [
    {
     "name": "stderr",
     "output_type": "stream",
     "text": [
      "C:\\Users\\kevin\\anaconda3\\lib\\site-packages\\sklearn\\cluster\\_kmeans.py:870: FutureWarning: The default value of `n_init` will change from 10 to 'auto' in 1.4. Set the value of `n_init` explicitly to suppress the warning\n",
      "  warnings.warn(\n",
      "C:\\Users\\kevin\\anaconda3\\lib\\site-packages\\sklearn\\cluster\\_kmeans.py:1382: UserWarning: KMeans is known to have a memory leak on Windows with MKL, when there are less chunks than available threads. You can avoid it by setting the environment variable OMP_NUM_THREADS=1.\n",
      "  warnings.warn(\n"
     ]
    }
   ],
   "source": [
    "kmeans = KMeans(n_clusters = 8, random_state = 1)\n",
    "kmeans.fit(x)\n",
    "\n",
    "y_kmeans = kmeans.predict(x)"
   ]
  },
  {
   "cell_type": "code",
   "execution_count": 18,
   "id": "3490155a",
   "metadata": {},
   "outputs": [
    {
     "data": {
      "text/html": [
       "<div>\n",
       "<style scoped>\n",
       "    .dataframe tbody tr th:only-of-type {\n",
       "        vertical-align: middle;\n",
       "    }\n",
       "\n",
       "    .dataframe tbody tr th {\n",
       "        vertical-align: top;\n",
       "    }\n",
       "\n",
       "    .dataframe thead th {\n",
       "        text-align: right;\n",
       "    }\n",
       "</style>\n",
       "<table border=\"1\" class=\"dataframe\">\n",
       "  <thead>\n",
       "    <tr style=\"text-align: right;\">\n",
       "      <th></th>\n",
       "      <th>Player</th>\n",
       "      <th>Cluster</th>\n",
       "    </tr>\n",
       "  </thead>\n",
       "  <tbody>\n",
       "    <tr>\n",
       "      <th>0</th>\n",
       "      <td>Andre Drummond</td>\n",
       "      <td>0</td>\n",
       "    </tr>\n",
       "    <tr>\n",
       "      <th>14</th>\n",
       "      <td>Jarrett Allen</td>\n",
       "      <td>0</td>\n",
       "    </tr>\n",
       "    <tr>\n",
       "      <th>13</th>\n",
       "      <td>Giannis Antetokounmpo</td>\n",
       "      <td>0</td>\n",
       "    </tr>\n",
       "    <tr>\n",
       "      <th>17</th>\n",
       "      <td>Joel Embiid</td>\n",
       "      <td>0</td>\n",
       "    </tr>\n",
       "    <tr>\n",
       "      <th>18</th>\n",
       "      <td>Jonas Valančiūnas</td>\n",
       "      <td>0</td>\n",
       "    </tr>\n",
       "    <tr>\n",
       "      <th>9</th>\n",
       "      <td>Domantas Sabonis</td>\n",
       "      <td>0</td>\n",
       "    </tr>\n",
       "    <tr>\n",
       "      <th>16</th>\n",
       "      <td>Joel Embiid</td>\n",
       "      <td>0</td>\n",
       "    </tr>\n",
       "    <tr>\n",
       "      <th>1</th>\n",
       "      <td>Bam Adebayo</td>\n",
       "      <td>0</td>\n",
       "    </tr>\n",
       "    <tr>\n",
       "      <th>21</th>\n",
       "      <td>Karl-Anthony Towns</td>\n",
       "      <td>1</td>\n",
       "    </tr>\n",
       "    <tr>\n",
       "      <th>4</th>\n",
       "      <td>D'Angelo Russell</td>\n",
       "      <td>1</td>\n",
       "    </tr>\n",
       "    <tr>\n",
       "      <th>3</th>\n",
       "      <td>CJ McCollum</td>\n",
       "      <td>1</td>\n",
       "    </tr>\n",
       "    <tr>\n",
       "      <th>27</th>\n",
       "      <td>Russell Westbrook</td>\n",
       "      <td>1</td>\n",
       "    </tr>\n",
       "    <tr>\n",
       "      <th>22</th>\n",
       "      <td>Kemba Walker</td>\n",
       "      <td>1</td>\n",
       "    </tr>\n",
       "    <tr>\n",
       "      <th>25</th>\n",
       "      <td>Kyrie Irving</td>\n",
       "      <td>2</td>\n",
       "    </tr>\n",
       "    <tr>\n",
       "      <th>29</th>\n",
       "      <td>Trae Young</td>\n",
       "      <td>2</td>\n",
       "    </tr>\n",
       "    <tr>\n",
       "      <th>5</th>\n",
       "      <td>Damian Lillard</td>\n",
       "      <td>2</td>\n",
       "    </tr>\n",
       "    <tr>\n",
       "      <th>26</th>\n",
       "      <td>Maxi Kleber</td>\n",
       "      <td>3</td>\n",
       "    </tr>\n",
       "    <tr>\n",
       "      <th>30</th>\n",
       "      <td>Wayne Ellington</td>\n",
       "      <td>3</td>\n",
       "    </tr>\n",
       "    <tr>\n",
       "      <th>12</th>\n",
       "      <td>Garrett Temple</td>\n",
       "      <td>3</td>\n",
       "    </tr>\n",
       "    <tr>\n",
       "      <th>19</th>\n",
       "      <td>Julius Randle</td>\n",
       "      <td>4</td>\n",
       "    </tr>\n",
       "    <tr>\n",
       "      <th>20</th>\n",
       "      <td>Julius Randle</td>\n",
       "      <td>4</td>\n",
       "    </tr>\n",
       "    <tr>\n",
       "      <th>23</th>\n",
       "      <td>Kevin Durant</td>\n",
       "      <td>4</td>\n",
       "    </tr>\n",
       "    <tr>\n",
       "      <th>7</th>\n",
       "      <td>DeMar DeRozan</td>\n",
       "      <td>4</td>\n",
       "    </tr>\n",
       "    <tr>\n",
       "      <th>11</th>\n",
       "      <td>Evan Fournier</td>\n",
       "      <td>5</td>\n",
       "    </tr>\n",
       "    <tr>\n",
       "      <th>10</th>\n",
       "      <td>Donovan Mitchell</td>\n",
       "      <td>5</td>\n",
       "    </tr>\n",
       "    <tr>\n",
       "      <th>2</th>\n",
       "      <td>Bradley Beal</td>\n",
       "      <td>5</td>\n",
       "    </tr>\n",
       "    <tr>\n",
       "      <th>8</th>\n",
       "      <td>Dillon Brooks</td>\n",
       "      <td>6</td>\n",
       "    </tr>\n",
       "    <tr>\n",
       "      <th>28</th>\n",
       "      <td>Timothé Luwawu-Cabarrot</td>\n",
       "      <td>6</td>\n",
       "    </tr>\n",
       "    <tr>\n",
       "      <th>24</th>\n",
       "      <td>Khris Middleton</td>\n",
       "      <td>7</td>\n",
       "    </tr>\n",
       "    <tr>\n",
       "      <th>6</th>\n",
       "      <td>Danilo Gallinari</td>\n",
       "      <td>7</td>\n",
       "    </tr>\n",
       "    <tr>\n",
       "      <th>15</th>\n",
       "      <td>Jimmy Butler</td>\n",
       "      <td>7</td>\n",
       "    </tr>\n",
       "  </tbody>\n",
       "</table>\n",
       "</div>"
      ],
      "text/plain": [
       "                     Player  Cluster\n",
       "0            Andre Drummond        0\n",
       "14            Jarrett Allen        0\n",
       "13    Giannis Antetokounmpo        0\n",
       "17              Joel Embiid        0\n",
       "18        Jonas Valančiūnas        0\n",
       "9          Domantas Sabonis        0\n",
       "16              Joel Embiid        0\n",
       "1               Bam Adebayo        0\n",
       "21       Karl-Anthony Towns        1\n",
       "4          D'Angelo Russell        1\n",
       "3               CJ McCollum        1\n",
       "27        Russell Westbrook        1\n",
       "22             Kemba Walker        1\n",
       "25             Kyrie Irving        2\n",
       "29               Trae Young        2\n",
       "5            Damian Lillard        2\n",
       "26              Maxi Kleber        3\n",
       "30          Wayne Ellington        3\n",
       "12           Garrett Temple        3\n",
       "19            Julius Randle        4\n",
       "20            Julius Randle        4\n",
       "23             Kevin Durant        4\n",
       "7             DeMar DeRozan        4\n",
       "11            Evan Fournier        5\n",
       "10         Donovan Mitchell        5\n",
       "2              Bradley Beal        5\n",
       "8             Dillon Brooks        6\n",
       "28  Timothé Luwawu-Cabarrot        6\n",
       "24          Khris Middleton        7\n",
       "6          Danilo Gallinari        7\n",
       "15             Jimmy Butler        7"
      ]
     },
     "execution_count": 18,
     "metadata": {},
     "output_type": "execute_result"
    }
   ],
   "source": [
    "df_cluster = pd.DataFrame()\n",
    "\n",
    "df_cluster['Player'] = bottom_10_percent['Player']\n",
    "df_cluster['Cluster'] = y_kmeans\n",
    "df_cluster.sort_values(by='Cluster')"
   ]
  },
  {
   "cell_type": "markdown",
   "id": "2d21d2d0",
   "metadata": {},
   "source": [
    "What's interesting to me here is that category 0 is big men, mostly guys who are effective but not strong floor spacers. The rest of the tiers are variations of perimeter players who are mainly offense first. These guys are known as strong scorers/offensive value adds but can be thought of as defensive liabilities."
   ]
  },
  {
   "cell_type": "code",
   "execution_count": 19,
   "id": "2afecd07",
   "metadata": {},
   "outputs": [
    {
     "name": "stderr",
     "output_type": "stream",
     "text": [
      "C:\\Users\\kevin\\anaconda3\\lib\\site-packages\\sklearn\\cluster\\_kmeans.py:870: FutureWarning: The default value of `n_init` will change from 10 to 'auto' in 1.4. Set the value of `n_init` explicitly to suppress the warning\n",
      "  warnings.warn(\n",
      "C:\\Users\\kevin\\anaconda3\\lib\\site-packages\\sklearn\\cluster\\_kmeans.py:1382: UserWarning: KMeans is known to have a memory leak on Windows with MKL, when there are less chunks than available threads. You can avoid it by setting the environment variable OMP_NUM_THREADS=1.\n",
      "  warnings.warn(\n"
     ]
    }
   ],
   "source": [
    "kmeans = KMeans(n_clusters = 12, random_state = 1)\n",
    "kmeans.fit(x)\n",
    "\n",
    "y_kmeans = kmeans.predict(x)"
   ]
  },
  {
   "cell_type": "code",
   "execution_count": 20,
   "id": "0ac8544f",
   "metadata": {},
   "outputs": [
    {
     "data": {
      "text/html": [
       "<div>\n",
       "<style scoped>\n",
       "    .dataframe tbody tr th:only-of-type {\n",
       "        vertical-align: middle;\n",
       "    }\n",
       "\n",
       "    .dataframe tbody tr th {\n",
       "        vertical-align: top;\n",
       "    }\n",
       "\n",
       "    .dataframe thead th {\n",
       "        text-align: right;\n",
       "    }\n",
       "</style>\n",
       "<table border=\"1\" class=\"dataframe\">\n",
       "  <thead>\n",
       "    <tr style=\"text-align: right;\">\n",
       "      <th></th>\n",
       "      <th>Player</th>\n",
       "      <th>Cluster</th>\n",
       "    </tr>\n",
       "  </thead>\n",
       "  <tbody>\n",
       "    <tr>\n",
       "      <th>9</th>\n",
       "      <td>Domantas Sabonis</td>\n",
       "      <td>0</td>\n",
       "    </tr>\n",
       "    <tr>\n",
       "      <th>1</th>\n",
       "      <td>Bam Adebayo</td>\n",
       "      <td>0</td>\n",
       "    </tr>\n",
       "    <tr>\n",
       "      <th>14</th>\n",
       "      <td>Jarrett Allen</td>\n",
       "      <td>0</td>\n",
       "    </tr>\n",
       "    <tr>\n",
       "      <th>18</th>\n",
       "      <td>Jonas Valančiūnas</td>\n",
       "      <td>0</td>\n",
       "    </tr>\n",
       "    <tr>\n",
       "      <th>2</th>\n",
       "      <td>Bradley Beal</td>\n",
       "      <td>1</td>\n",
       "    </tr>\n",
       "    <tr>\n",
       "      <th>3</th>\n",
       "      <td>CJ McCollum</td>\n",
       "      <td>1</td>\n",
       "    </tr>\n",
       "    <tr>\n",
       "      <th>5</th>\n",
       "      <td>Damian Lillard</td>\n",
       "      <td>2</td>\n",
       "    </tr>\n",
       "    <tr>\n",
       "      <th>29</th>\n",
       "      <td>Trae Young</td>\n",
       "      <td>2</td>\n",
       "    </tr>\n",
       "    <tr>\n",
       "      <th>20</th>\n",
       "      <td>Julius Randle</td>\n",
       "      <td>3</td>\n",
       "    </tr>\n",
       "    <tr>\n",
       "      <th>23</th>\n",
       "      <td>Kevin Durant</td>\n",
       "      <td>3</td>\n",
       "    </tr>\n",
       "    <tr>\n",
       "      <th>19</th>\n",
       "      <td>Julius Randle</td>\n",
       "      <td>3</td>\n",
       "    </tr>\n",
       "    <tr>\n",
       "      <th>7</th>\n",
       "      <td>DeMar DeRozan</td>\n",
       "      <td>3</td>\n",
       "    </tr>\n",
       "    <tr>\n",
       "      <th>25</th>\n",
       "      <td>Kyrie Irving</td>\n",
       "      <td>4</td>\n",
       "    </tr>\n",
       "    <tr>\n",
       "      <th>6</th>\n",
       "      <td>Danilo Gallinari</td>\n",
       "      <td>4</td>\n",
       "    </tr>\n",
       "    <tr>\n",
       "      <th>24</th>\n",
       "      <td>Khris Middleton</td>\n",
       "      <td>4</td>\n",
       "    </tr>\n",
       "    <tr>\n",
       "      <th>15</th>\n",
       "      <td>Jimmy Butler</td>\n",
       "      <td>4</td>\n",
       "    </tr>\n",
       "    <tr>\n",
       "      <th>11</th>\n",
       "      <td>Evan Fournier</td>\n",
       "      <td>5</td>\n",
       "    </tr>\n",
       "    <tr>\n",
       "      <th>10</th>\n",
       "      <td>Donovan Mitchell</td>\n",
       "      <td>5</td>\n",
       "    </tr>\n",
       "    <tr>\n",
       "      <th>28</th>\n",
       "      <td>Timothé Luwawu-Cabarrot</td>\n",
       "      <td>6</td>\n",
       "    </tr>\n",
       "    <tr>\n",
       "      <th>8</th>\n",
       "      <td>Dillon Brooks</td>\n",
       "      <td>6</td>\n",
       "    </tr>\n",
       "    <tr>\n",
       "      <th>13</th>\n",
       "      <td>Giannis Antetokounmpo</td>\n",
       "      <td>7</td>\n",
       "    </tr>\n",
       "    <tr>\n",
       "      <th>16</th>\n",
       "      <td>Joel Embiid</td>\n",
       "      <td>7</td>\n",
       "    </tr>\n",
       "    <tr>\n",
       "      <th>17</th>\n",
       "      <td>Joel Embiid</td>\n",
       "      <td>7</td>\n",
       "    </tr>\n",
       "    <tr>\n",
       "      <th>21</th>\n",
       "      <td>Karl-Anthony Towns</td>\n",
       "      <td>8</td>\n",
       "    </tr>\n",
       "    <tr>\n",
       "      <th>22</th>\n",
       "      <td>Kemba Walker</td>\n",
       "      <td>9</td>\n",
       "    </tr>\n",
       "    <tr>\n",
       "      <th>4</th>\n",
       "      <td>D'Angelo Russell</td>\n",
       "      <td>9</td>\n",
       "    </tr>\n",
       "    <tr>\n",
       "      <th>27</th>\n",
       "      <td>Russell Westbrook</td>\n",
       "      <td>9</td>\n",
       "    </tr>\n",
       "    <tr>\n",
       "      <th>30</th>\n",
       "      <td>Wayne Ellington</td>\n",
       "      <td>10</td>\n",
       "    </tr>\n",
       "    <tr>\n",
       "      <th>12</th>\n",
       "      <td>Garrett Temple</td>\n",
       "      <td>10</td>\n",
       "    </tr>\n",
       "    <tr>\n",
       "      <th>26</th>\n",
       "      <td>Maxi Kleber</td>\n",
       "      <td>10</td>\n",
       "    </tr>\n",
       "    <tr>\n",
       "      <th>0</th>\n",
       "      <td>Andre Drummond</td>\n",
       "      <td>11</td>\n",
       "    </tr>\n",
       "  </tbody>\n",
       "</table>\n",
       "</div>"
      ],
      "text/plain": [
       "                     Player  Cluster\n",
       "9          Domantas Sabonis        0\n",
       "1               Bam Adebayo        0\n",
       "14            Jarrett Allen        0\n",
       "18        Jonas Valančiūnas        0\n",
       "2              Bradley Beal        1\n",
       "3               CJ McCollum        1\n",
       "5            Damian Lillard        2\n",
       "29               Trae Young        2\n",
       "20            Julius Randle        3\n",
       "23             Kevin Durant        3\n",
       "19            Julius Randle        3\n",
       "7             DeMar DeRozan        3\n",
       "25             Kyrie Irving        4\n",
       "6          Danilo Gallinari        4\n",
       "24          Khris Middleton        4\n",
       "15             Jimmy Butler        4\n",
       "11            Evan Fournier        5\n",
       "10         Donovan Mitchell        5\n",
       "28  Timothé Luwawu-Cabarrot        6\n",
       "8             Dillon Brooks        6\n",
       "13    Giannis Antetokounmpo        7\n",
       "16              Joel Embiid        7\n",
       "17              Joel Embiid        7\n",
       "21       Karl-Anthony Towns        8\n",
       "22             Kemba Walker        9\n",
       "4          D'Angelo Russell        9\n",
       "27        Russell Westbrook        9\n",
       "30          Wayne Ellington       10\n",
       "12           Garrett Temple       10\n",
       "26              Maxi Kleber       10\n",
       "0            Andre Drummond       11"
      ]
     },
     "execution_count": 20,
     "metadata": {},
     "output_type": "execute_result"
    }
   ],
   "source": [
    "df_cluster = pd.DataFrame()\n",
    "\n",
    "df_cluster['Player'] = bottom_10_percent['Player']\n",
    "df_cluster['Cluster'] = y_kmeans\n",
    "df_cluster.sort_values(by='Cluster')"
   ]
  },
  {
   "cell_type": "markdown",
   "id": "41082118",
   "metadata": {},
   "source": [
    "This is a strong look as well. With more clusters, we can treat category 7 of Embiid and Giannis as superstar exceptions and everything else would fit the description in the previous text."
   ]
  },
  {
   "cell_type": "code",
   "execution_count": 33,
   "id": "26193e5f",
   "metadata": {},
   "outputs": [],
   "source": [
    "top_10_percent.to_csv('C:/Users/kevin/Downloads/top 10% outperformers.csv', index=False)\n",
    "bottom_10_percent.to_csv('C:/Users/kevin/Downloads/bottom 10% outperformers.csv', index=False)"
   ]
  },
  {
   "cell_type": "code",
   "execution_count": null,
   "id": "7d8622e3",
   "metadata": {},
   "outputs": [],
   "source": []
  }
 ],
 "metadata": {
  "kernelspec": {
   "display_name": "Python 3 (ipykernel)",
   "language": "python",
   "name": "python3"
  },
  "language_info": {
   "codemirror_mode": {
    "name": "ipython",
    "version": 3
   },
   "file_extension": ".py",
   "mimetype": "text/x-python",
   "name": "python",
   "nbconvert_exporter": "python",
   "pygments_lexer": "ipython3",
   "version": "3.8.16"
  }
 },
 "nbformat": 4,
 "nbformat_minor": 5
}
