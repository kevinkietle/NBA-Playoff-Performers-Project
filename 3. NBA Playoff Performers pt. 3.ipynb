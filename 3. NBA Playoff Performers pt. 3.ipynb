{
 "cells": [
  {
   "cell_type": "markdown",
   "id": "0f8e0e6e",
   "metadata": {},
   "source": [
    "## Playoff Performers Project Part 3 - Regressions"
   ]
  },
  {
   "cell_type": "markdown",
   "id": "56bf5830",
   "metadata": {},
   "source": [
    "### Imports"
   ]
  },
  {
   "cell_type": "code",
   "execution_count": 1,
   "id": "df704739",
   "metadata": {},
   "outputs": [],
   "source": [
    "import pandas as pd\n",
    "import numpy as np\n",
    "import matplotlib.pyplot as plt\n",
    "import seaborn as sns\n",
    "import scipy.stats as stats\n",
    "%matplotlib inline"
   ]
  },
  {
   "cell_type": "code",
   "execution_count": 2,
   "id": "fb29ff5e",
   "metadata": {},
   "outputs": [],
   "source": [
    "combined = pd.read_csv(\"C:/Users/kevin/Downloads/combined 2019-2023 v2.csv\")\n",
    "best_players = pd.read_csv(\"C:/Users/kevin/Downloads/best players combined 2019-2023 v2.csv\")"
   ]
  },
  {
   "cell_type": "code",
   "execution_count": 3,
   "id": "54addeca",
   "metadata": {},
   "outputs": [],
   "source": [
    "best_players = pd.get_dummies(best_players,columns=['Pos_x'],drop_first=True)\n",
    "combined = pd.get_dummies(combined,columns=['Pos_x'],drop_first=True)"
   ]
  },
  {
   "cell_type": "code",
   "execution_count": 6,
   "id": "624ecfee",
   "metadata": {},
   "outputs": [
    {
     "data": {
      "text/plain": [
       "Index(['Player', 'Age_x', 'Tm_x', 'G', 'MP', 'PER', 'TS%', '3PAr', 'FTr',\n",
       "       'ORB%', 'DRB%', 'TRB%', 'AST%', 'STL%', 'BLK%', 'TOV%', 'USG%', 'OWS',\n",
       "       'DWS', 'WS', 'WS/48', 'OBPM', 'DBPM', 'BPM', 'VORP', 'Year',\n",
       "       'SeasonType_x', 'MPG', 'G_p', 'MP_p', 'PER_p', 'TS%_p', '3PAr_p',\n",
       "       'FTr_p', 'ORB%_p', 'DRB%_p', 'TRB%_p', 'AST%_p', 'STL%_p', 'BLK%_p',\n",
       "       'TOV%_p', 'USG%_p', 'OWS_p', 'DWS_p', 'WS_p', 'WS/48_p', 'OBPM_p',\n",
       "       'DBPM_p', 'BPM_p', 'VORP_p', 'SeasonType_y', 'MPG_p', 'PER_diff',\n",
       "       'VORP_diff', 'WS/48_diff', 'Pos_x_PF', 'Pos_x_PG', 'Pos_x_SF',\n",
       "       'Pos_x_SG'],\n",
       "      dtype='object')"
      ]
     },
     "execution_count": 6,
     "metadata": {},
     "output_type": "execute_result"
    }
   ],
   "source": [
    "combined.columns"
   ]
  },
  {
   "cell_type": "code",
   "execution_count": 7,
   "id": "8d60032c",
   "metadata": {},
   "outputs": [],
   "source": [
    "X = combined[['Age_x', 'G', 'MP', 'TS%', '3PAr', 'FTr',\n",
    "       'ORB%', 'DRB%', 'AST%', 'STL%', 'BLK%', 'TOV%', 'USG%', 'OWS',\n",
    "       'DWS', 'WS/48', 'MPG', 'Pos_x_PF', 'Pos_x_PG', 'Pos_x_SF',\n",
    "       'Pos_x_SG']]\n",
    "\n",
    "y = combined['WS/48_diff']"
   ]
  },
  {
   "cell_type": "markdown",
   "id": "e19706bd",
   "metadata": {},
   "source": [
    "### Linear Regression"
   ]
  },
  {
   "cell_type": "code",
   "execution_count": 12,
   "id": "a9cfe071",
   "metadata": {},
   "outputs": [],
   "source": [
    "from sklearn.model_selection import train_test_split"
   ]
  },
  {
   "cell_type": "code",
   "execution_count": 14,
   "id": "0472975e",
   "metadata": {},
   "outputs": [],
   "source": [
    "from sklearn.linear_model import LinearRegression"
   ]
  },
  {
   "cell_type": "code",
   "execution_count": 9,
   "id": "f756e758",
   "metadata": {},
   "outputs": [],
   "source": [
    "X_train, X_test, y_train, y_test = train_test_split(X, y, test_size=0.2, random_state=101)"
   ]
  },
  {
   "cell_type": "code",
   "execution_count": 15,
   "id": "c2bf5210",
   "metadata": {},
   "outputs": [
    {
     "name": "stdout",
     "output_type": "stream",
     "text": [
      "     Feature  Coefficient  Absolute Coefficient\n",
      "0        TS%    -0.156775              0.156775\n",
      "1      WS/48    -0.114715              0.114715\n",
      "2        FTr    -0.047800              0.047800\n",
      "3       3PAr    -0.036137              0.036137\n",
      "4       STL%     0.007894              0.007894\n",
      "5   Pos_x_PF    -0.005769              0.005769\n",
      "6       BLK%     0.005686              0.005686\n",
      "7   Pos_x_SF    -0.004875              0.004875\n",
      "8       TOV%     0.002646              0.002646\n",
      "9   Pos_x_SG    -0.002405              0.002405\n",
      "10      ORB%    -0.002032              0.002032\n",
      "11       MPG     0.002025              0.002025\n",
      "12      AST%    -0.001152              0.001152\n",
      "13       DWS    -0.001010              0.001010\n",
      "14  Pos_x_PG     0.000877              0.000877\n",
      "15     Age_x     0.000739              0.000739\n",
      "16      USG%    -0.000628              0.000628\n",
      "17         G     0.000538              0.000538\n",
      "18      DRB%    -0.000333              0.000333\n",
      "19       OWS     0.000151              0.000151\n",
      "20        MP    -0.000030              0.000030\n"
     ]
    }
   ],
   "source": [
    "# Create an instance of the Linear regression model\n",
    "lm = LinearRegression()\n",
    "\n",
    "# Fit the linear model on the training data\n",
    "lm.fit(X_train, y_train)\n",
    "\n",
    "# Get the coefficients and corresponding feature names\n",
    "lm_coefs = lm.coef_\n",
    "feature_names = X_train.columns\n",
    "\n",
    "# Create a DataFrame to store the coefficients and feature names\n",
    "coefs_df = pd.DataFrame({'Feature': feature_names, 'Coefficient': lm_coefs})\n",
    "\n",
    "# Sort the DataFrame by absolute coefficient values\n",
    "coefs_df['Absolute Coefficient'] = coefs_df['Coefficient'].abs()\n",
    "coefs_df = coefs_df.sort_values('Absolute Coefficient', ascending=False).reset_index(drop=True)\n",
    "\n",
    "# Print the feature importance\n",
    "print(coefs_df)"
   ]
  },
  {
   "cell_type": "markdown",
   "id": "c3b7d79c",
   "metadata": {},
   "source": [
    "The above table shows the size of the impact of the features not the statistical significance. Assuming they were statistically significant, TS% seems to be a large impact predictor of the change in WS/48 from regular season to playoffs. This is saying a higher true shooting percentage leads to a lower WS/48 difference. This could be due to tougher defense and finesse players who deliver strong efficiency in the regular season can't keep their value the same (remember that bigs had worse differences and they are more likely to have higher TS%."
   ]
  },
  {
   "cell_type": "code",
   "execution_count": null,
   "id": "62741011",
   "metadata": {},
   "outputs": [],
   "source": [
    "predictions = lm.predict(X_test)"
   ]
  },
  {
   "cell_type": "code",
   "execution_count": 17,
   "id": "e714c43b",
   "metadata": {},
   "outputs": [
    {
     "data": {
      "text/plain": [
       "<matplotlib.collections.PathCollection at 0x21e148d37f0>"
      ]
     },
     "execution_count": 17,
     "metadata": {},
     "output_type": "execute_result"
    },
    {
     "data": {
      "image/png": "[encoded data removed]",
      "text/plain": [
       "<Figure size 640x480 with 1 Axes>"
      ]
     },
     "metadata": {},
     "output_type": "display_data"
    }
   ],
   "source": [
    "plt.scatter(y_test,predictions)"
   ]
  },
  {
   "cell_type": "code",
   "execution_count": 18,
   "id": "7018c804",
   "metadata": {},
   "outputs": [
    {
     "name": "stderr",
     "output_type": "stream",
     "text": [
      "C:\\Users\\kevin\\AppData\\Local\\Temp\\ipykernel_13868\\1061164399.py:1: UserWarning: \n",
      "\n",
      "`distplot` is a deprecated function and will be removed in seaborn v0.14.0.\n",
      "\n",
      "Please adapt your code to use either `displot` (a figure-level function with\n",
      "similar flexibility) or `histplot` (an axes-level function for histograms).\n",
      "\n",
      "For a guide to updating your code to use the new functions, please see\n",
      "https://gist.github.com/mwaskom/de44147ed2974457ad6372750bbe5751\n",
      "\n",
      "  sns.distplot((y_test-predictions),bins=50)\n"
     ]
    },
    {
     "data": {
      "text/plain": [
       "<Axes: xlabel='WS/48_diff', ylabel='Density'>"
      ]
     },
     "execution_count": 18,
     "metadata": {},
     "output_type": "execute_result"
    },
    {
     "data": {
      "image/png": "[encoded data removed]",
      "text/plain": [
       "<Figure size 640x480 with 1 Axes>"
      ]
     },
     "metadata": {},
     "output_type": "display_data"
    }
   ],
   "source": [
    "sns.distplot((y_test-predictions),bins=50)"
   ]
  },
  {
   "cell_type": "code",
   "execution_count": 19,
   "id": "88535f9e",
   "metadata": {},
   "outputs": [],
   "source": [
    "from sklearn import metrics"
   ]
  },
  {
   "cell_type": "code",
   "execution_count": 21,
   "id": "6e1a3705",
   "metadata": {},
   "outputs": [
    {
     "name": "stdout",
     "output_type": "stream",
     "text": [
      "MAE: 0.05630149351004044\n",
      "MSE: 0.005569889353391138\n",
      "RMSE: 0.07463169134751763\n",
      "R-squared:  -0.09831903018039134\n",
      "R:  nan\n"
     ]
    },
    {
     "name": "stderr",
     "output_type": "stream",
     "text": [
      "C:\\Users\\kevin\\AppData\\Local\\Temp\\ipykernel_13868\\2231143017.py:5: RuntimeWarning: invalid value encountered in sqrt\n",
      "  print('R: ', np.sqrt(metrics.explained_variance_score(y_test, predictions)))\n"
     ]
    }
   ],
   "source": [
    "print('MAE:', metrics.mean_absolute_error(y_test, predictions))\n",
    "print('MSE:', metrics.mean_squared_error(y_test, predictions))\n",
    "print('RMSE:', np.sqrt(metrics.mean_squared_error(y_test, predictions)))\n",
    "print('R-squared: ', metrics.explained_variance_score(y_test, predictions))\n",
    "print('R: ', np.sqrt(metrics.explained_variance_score(y_test, predictions)))"
   ]
  },
  {
   "cell_type": "markdown",
   "id": "a852389d",
   "metadata": {},
   "source": [
    "This initial model has a negative R squared, meaning it tells us basically nothing."
   ]
  },
  {
   "cell_type": "code",
   "execution_count": 23,
   "id": "7ef9c1b3",
   "metadata": {},
   "outputs": [],
   "source": [
    "import statsmodels.api as sm\n",
    "results = sm.OLS(y_train,X_train).fit()\n",
    "p_value = results.pvalues[X.columns]"
   ]
  },
  {
   "cell_type": "code",
   "execution_count": 24,
   "id": "25fa64f8",
   "metadata": {},
   "outputs": [
    {
     "data": {
      "text/plain": [
       "BLK%        0.095489\n",
       "TOV%        0.147681\n",
       "AST%        0.219835\n",
       "3PAr        0.226189\n",
       "FTr         0.245319\n",
       "STL%        0.302525\n",
       "MPG         0.317239\n",
       "TS%         0.326554\n",
       "Age_x       0.342061\n",
       "MP          0.382561\n",
       "ORB%        0.396773\n",
       "G           0.454852\n",
       "USG%        0.515396\n",
       "WS/48       0.615471\n",
       "Pos_x_PF    0.749288\n",
       "DRB%        0.763837\n",
       "Pos_x_SF    0.833450\n",
       "Pos_x_PG    0.907031\n",
       "DWS         0.946509\n",
       "Pos_x_SG    0.954687\n",
       "OWS         0.966409\n",
       "dtype: float64"
      ]
     },
     "execution_count": 24,
     "metadata": {},
     "output_type": "execute_result"
    }
   ],
   "source": [
    "p_value.sort_values()"
   ]
  },
  {
   "cell_type": "markdown",
   "id": "7c7dcc3c",
   "metadata": {},
   "source": [
    "As you can see, this model has too much noise. The R-squared is not interpretable and none of the individual coefficients are statistically significant by an alpha level of 0.05."
   ]
  },
  {
   "cell_type": "markdown",
   "id": "b27c69db",
   "metadata": {},
   "source": [
    "### Feature Selection"
   ]
  },
  {
   "cell_type": "markdown",
   "id": "6850be04",
   "metadata": {},
   "source": [
    "Because the initial linear regression was not interpretable, I tried a function for feature selection through backward elimination to narrow down our predictors to a few high relevance features."
   ]
  },
  {
   "cell_type": "code",
   "execution_count": 25,
   "id": "bf24ff9b",
   "metadata": {},
   "outputs": [
    {
     "name": "stdout",
     "output_type": "stream",
     "text": [
      "                            OLS Regression Results                            \n",
      "==============================================================================\n",
      "Dep. Variable:             WS/48_diff   R-squared:                       0.066\n",
      "Model:                            OLS   Adj. R-squared:                  0.059\n",
      "Method:                 Least Squares   F-statistic:                     9.359\n",
      "Date:                Tue, 04 Jul 2023   Prob (F-statistic):           2.59e-07\n",
      "Time:                        19:37:43   Log-Likelihood:                 694.44\n",
      "No. Observations:                 532   AIC:                            -1379.\n",
      "Df Residuals:                     527   BIC:                            -1358.\n",
      "Df Model:                           4                                         \n",
      "Covariance Type:            nonrobust                                         \n",
      "==============================================================================\n",
      "                 coef    std err          t      P>|t|      [0.025      0.975]\n",
      "------------------------------------------------------------------------------\n",
      "const          0.0918      0.041      2.242      0.025       0.011       0.172\n",
      "TS%           -0.2200      0.070     -3.125      0.002      -0.358      -0.082\n",
      "DRB%          -0.0011      0.000     -2.185      0.029      -0.002      -0.000\n",
      "AST%          -0.0015      0.000     -4.408      0.000      -0.002      -0.001\n",
      "TOV%           0.0033      0.001      3.071      0.002       0.001       0.005\n",
      "==============================================================================\n",
      "Omnibus:                       30.445   Durbin-Watson:                   1.823\n",
      "Prob(Omnibus):                  0.000   Jarque-Bera (JB):               45.473\n",
      "Skew:                          -0.443   Prob(JB):                     1.34e-10\n",
      "Kurtosis:                       4.125   Cond. No.                         767.\n",
      "==============================================================================\n",
      "\n",
      "Notes:\n",
      "[1] Standard Errors assume that the covariance matrix of the errors is correctly specified.\n"
     ]
    }
   ],
   "source": [
    "def backward_elimination(X, y, significance_level=0.05):\n",
    "    num_features = X.shape[1]\n",
    "    for i in range(num_features):\n",
    "        X = sm.add_constant(X)  # Add constant column for intercept\n",
    "        model = sm.OLS(y, X).fit()  # Fit the ordinary least squares (OLS) model\n",
    "        max_p_value = model.pvalues[1:].max()  # Exclude the constant column\n",
    "        if max_p_value > significance_level:\n",
    "            feature_to_remove = model.pvalues[1:].idxmax()\n",
    "            X = X.drop(feature_to_remove, axis=1)  # Remove the feature with the highest p-value\n",
    "        else:\n",
    "            break\n",
    "    return model\n",
    "\n",
    "# Perform backward elimination to select features\n",
    "selected_model = backward_elimination(X, y)\n",
    "\n",
    "# Print the summary of the selected model\n",
    "print(selected_model.summary())"
   ]
  },
  {
   "cell_type": "markdown",
   "id": "8fa28bb4",
   "metadata": {},
   "source": [
    "### ChatGPT explanation of the output\n",
    "\n",
    "**R-squared and Adj. R-squared:** These coefficients indicate the goodness-of-fit of the model. In this case, the R-squared value is 0.066, meaning that approximately 6.6% of the variation in the dependent variable (WS/48_diff) is explained by the selected independent variables. The adjusted R-squared takes into account the number of predictors in the model and is slightly lower at 0.059.\n",
    "\n",
    "**F-statistic and Prob (F-statistic):** The F-statistic tests the overall significance of the model. In this case, the F-statistic is 9.359, and the associated p-value is 2.59e-07 (very close to zero), indicating that the model as a whole is statistically significant.\n",
    "\n",
    "**Coefficients:** The table displays the estimated coefficients for each selected independent variable. The \"coef\" column represents the estimated coefficient values, and the \"std err\" column shows the standard errors of the coefficients. The \"t\" column shows the t-statistic, which is the coefficient divided by its standard error. The \"P>|t|\" column provides the p-values associated with the t-statistics.\n",
    "\n",
    "**Interpretation of Coefficients:** For example, the coefficient for the constant term (const) is 0.0918, indicating that it represents the expected change in the dependent variable when all other independent variables are held constant. The coefficient for TS% is -0.2200, suggesting that a 1-unit increase in TS% is associated with a decrease of approximately 0.2200 in WS/48_diff, holding other variables constant. Similarly, the coefficients for DRB%, AST%, and TOV% represent the expected changes in WS/48_diff associated with a 1-unit increase in each respective variable.\n",
    "\n",
    "**P-values:** The p-values associated with each coefficient indicate the statistical significance of the corresponding variable. In this case, all selected variables (TS%, DRB%, AST%, and TOV%) have p-values less than the significance level of 0.05, suggesting that they are statistically significant predictors of WS/48_diff.\n",
    "\n",
    "**AIC and BIC:** These are information criteria used for model selection. Lower values of AIC and BIC indicate better-fitting models. In this case, the AIC is -1379 and the BIC is -1358.\n",
    "\n",
    "**Omnibus, Jarque-Bera, Skewness, Kurtosis:** These statistics provide information about the distribution of residuals. For example, the Omnibus test examines whether the residuals are normally distributed. A significant Omnibus test (p-value < 0.05) indicates a departure from normality. The Jarque-Bera test also assesses the normality assumption. Skewness measures the symmetry of the residuals distribution, and kurtosis measures the tail behavior. In this case, both the Omnibus and Jarque-Bera tests have p-values close to zero, indicating non-normality of residuals.\n",
    "\n",
    "**Durbin-Watson:** This statistic tests for autocorrelation in the residuals. Values between 1.5 and 2.5 generally indicate no significant autocorrelation. In this case, the Durbin-Watson value is 1.823, suggesting no significant autocorrelation.\n",
    "\n",
    "**Cond. No.:** The condition number measures the multicollinearity in the model. Values above 30 may indicate high multicollinearity. In this case, the condition number is 767, which suggests that there may be some multicollinearity present"
   ]
  },
  {
   "cell_type": "code",
   "execution_count": 28,
   "id": "c52168be",
   "metadata": {},
   "outputs": [],
   "source": [
    "X = best_players[['Age_x', 'G', 'MP', 'TS%', '3PAr', 'FTr',\n",
    "       'ORB%', 'DRB%', 'AST%', 'STL%', 'BLK%', 'TOV%', 'USG%', 'OWS',\n",
    "       'DWS', 'WS/48', 'MPG', 'Pos_x_PF', 'Pos_x_PG', 'Pos_x_SF',\n",
    "       'Pos_x_SG']]\n",
    "\n",
    "y = best_players['WS/48_diff']"
   ]
  },
  {
   "cell_type": "code",
   "execution_count": 29,
   "id": "5344fa6c",
   "metadata": {},
   "outputs": [],
   "source": [
    "X_train, X_test, y_train, y_test = train_test_split(X, y, test_size=0.2, random_state=101)"
   ]
  },
  {
   "cell_type": "markdown",
   "id": "2b8c13e7",
   "metadata": {},
   "source": [
    "Trying again on the best players dataframe (>= 30 MPG) instead of the combined dataframe (>= 19 MPG)"
   ]
  },
  {
   "cell_type": "code",
   "execution_count": 30,
   "id": "a0286d44",
   "metadata": {},
   "outputs": [
    {
     "name": "stdout",
     "output_type": "stream",
     "text": [
      "     Feature  Coefficient  Absolute Coefficient\n",
      "0        TS%    -0.452714              0.452714\n",
      "1      WS/48     0.260973              0.260973\n",
      "2        FTr    -0.059777              0.059777\n",
      "3       3PAr    -0.037450              0.037450\n",
      "4   Pos_x_PG     0.029477              0.029477\n",
      "5   Pos_x_SG     0.022696              0.022696\n",
      "6        MPG     0.009414              0.009414\n",
      "7       STL%    -0.009031              0.009031\n",
      "8       ORB%    -0.005479              0.005479\n",
      "9          G     0.004883              0.004883\n",
      "10      TOV%     0.004610              0.004610\n",
      "11      BLK%     0.002401              0.002401\n",
      "12  Pos_x_SF     0.002289              0.002289\n",
      "13       OWS    -0.002152              0.002152\n",
      "14      AST%    -0.001890              0.001890\n",
      "15       DWS    -0.001700              0.001700\n",
      "16     Age_x    -0.001166              0.001166\n",
      "17      USG%    -0.000852              0.000852\n",
      "18  Pos_x_PF    -0.000597              0.000597\n",
      "19      DRB%     0.000194              0.000194\n",
      "20        MP    -0.000136              0.000136\n"
     ]
    }
   ],
   "source": [
    "# Create an instance of the Linear regression model\n",
    "lm = LinearRegression()\n",
    "\n",
    "# Fit the linear model on the training data\n",
    "lm.fit(X_train, y_train)\n",
    "\n",
    "# Get the coefficients and corresponding feature names\n",
    "lm_coefs = lm.coef_\n",
    "feature_names = X_train.columns\n",
    "\n",
    "# Create a DataFrame to store the coefficients and feature names\n",
    "coefs_df = pd.DataFrame({'Feature': feature_names, 'Coefficient': lm_coefs})\n",
    "\n",
    "# Sort the DataFrame by absolute coefficient values\n",
    "coefs_df['Absolute Coefficient'] = coefs_df['Coefficient'].abs()\n",
    "coefs_df = coefs_df.sort_values('Absolute Coefficient', ascending=False).reset_index(drop=True)\n",
    "\n",
    "# Print the feature importance\n",
    "print(coefs_df)"
   ]
  },
  {
   "cell_type": "code",
   "execution_count": 31,
   "id": "1139448a",
   "metadata": {},
   "outputs": [],
   "source": [
    "predictions = lm.predict(X_test)"
   ]
  },
  {
   "cell_type": "markdown",
   "id": "31608316",
   "metadata": {},
   "source": [
    "Same thing here on the best players dataframe. Still a negative R squared, so we should try the backward elimination process again."
   ]
  },
  {
   "cell_type": "code",
   "execution_count": 32,
   "id": "30105c65",
   "metadata": {},
   "outputs": [
    {
     "name": "stdout",
     "output_type": "stream",
     "text": [
      "MAE: 0.05987902085330808\n",
      "MSE: 0.006212511837222985\n",
      "RMSE: 0.07881948894291935\n",
      "R-squared:  -0.27408951952022154\n",
      "R:  nan\n"
     ]
    },
    {
     "name": "stderr",
     "output_type": "stream",
     "text": [
      "C:\\Users\\kevin\\AppData\\Local\\Temp\\ipykernel_13868\\2231143017.py:5: RuntimeWarning: invalid value encountered in sqrt\n",
      "  print('R: ', np.sqrt(metrics.explained_variance_score(y_test, predictions)))\n"
     ]
    }
   ],
   "source": [
    "print('MAE:', metrics.mean_absolute_error(y_test, predictions))\n",
    "print('MSE:', metrics.mean_squared_error(y_test, predictions))\n",
    "print('RMSE:', np.sqrt(metrics.mean_squared_error(y_test, predictions)))\n",
    "print('R-squared: ', metrics.explained_variance_score(y_test, predictions))\n",
    "print('R: ', np.sqrt(metrics.explained_variance_score(y_test, predictions)))"
   ]
  },
  {
   "cell_type": "code",
   "execution_count": 33,
   "id": "f2447c92",
   "metadata": {},
   "outputs": [
    {
     "data": {
      "text/plain": [
       "TS%         0.022378\n",
       "TOV%        0.051551\n",
       "G           0.064858\n",
       "ORB%        0.075695\n",
       "MPG         0.087092\n",
       "AST%        0.093329\n",
       "MP          0.200059\n",
       "FTr         0.249559\n",
       "Pos_x_PG    0.288290\n",
       "3PAr        0.327917\n",
       "Age_x       0.354605\n",
       "Pos_x_SG    0.406645\n",
       "STL%        0.431252\n",
       "USG%        0.452760\n",
       "WS/48       0.502931\n",
       "BLK%        0.627698\n",
       "OWS         0.797840\n",
       "DWS         0.862976\n",
       "DRB%        0.892584\n",
       "Pos_x_SF    0.925491\n",
       "Pos_x_PF    0.962694\n",
       "dtype: float64"
      ]
     },
     "execution_count": 33,
     "metadata": {},
     "output_type": "execute_result"
    }
   ],
   "source": [
    "results = sm.OLS(y_train,X_train).fit()\n",
    "p_value = results.pvalues[X.columns]\n",
    "p_value.sort_values()"
   ]
  },
  {
   "cell_type": "code",
   "execution_count": 34,
   "id": "3222cc61",
   "metadata": {},
   "outputs": [
    {
     "name": "stdout",
     "output_type": "stream",
     "text": [
      "                            OLS Regression Results                            \n",
      "==============================================================================\n",
      "Dep. Variable:             WS/48_diff   R-squared:                       0.078\n",
      "Model:                            OLS   Adj. R-squared:                  0.065\n",
      "Method:                 Least Squares   F-statistic:                     6.137\n",
      "Date:                Tue, 04 Jul 2023   Prob (F-statistic):           9.39e-05\n",
      "Time:                        19:55:04   Log-Likelihood:                 386.88\n",
      "No. Observations:                 296   AIC:                            -763.8\n",
      "Df Residuals:                     291   BIC:                            -745.3\n",
      "Df Model:                           4                                         \n",
      "Covariance Type:            nonrobust                                         \n",
      "==============================================================================\n",
      "                 coef    std err          t      P>|t|      [0.025      0.975]\n",
      "------------------------------------------------------------------------------\n",
      "const          0.1225      0.063      1.945      0.053      -0.001       0.246\n",
      "TS%           -0.2828      0.107     -2.633      0.009      -0.494      -0.071\n",
      "ORB%          -0.0033      0.001     -2.321      0.021      -0.006      -0.001\n",
      "AST%          -0.0013      0.000     -2.849      0.005      -0.002      -0.000\n",
      "TOV%           0.0033      0.001      2.280      0.023       0.000       0.006\n",
      "==============================================================================\n",
      "Omnibus:                       35.700   Durbin-Watson:                   1.995\n",
      "Prob(Omnibus):                  0.000   Jarque-Bera (JB):               69.256\n",
      "Skew:                          -0.654   Prob(JB):                     9.15e-16\n",
      "Kurtosis:                       4.976   Cond. No.                         827.\n",
      "==============================================================================\n",
      "\n",
      "Notes:\n",
      "[1] Standard Errors assume that the covariance matrix of the errors is correctly specified.\n"
     ]
    }
   ],
   "source": [
    "# Perform backward elimination to select features\n",
    "selected_model = backward_elimination(X, y)\n",
    "\n",
    "# Print the summary of the selected model\n",
    "print(selected_model.summary())"
   ]
  },
  {
   "cell_type": "markdown",
   "id": "c30f50f2",
   "metadata": {},
   "source": [
    "This model looking at only the best players actually does perform slightly better, achieving an R-squared of 0.078 as opposed to 0.066. This means the model explains about 8% of variance in the WS/48 difference. Again, the model as a whole is statistically significant as taken from the low Prob (F-statistic). Interestingly, through backward elimination, the same features were selected for both models: TS%, ORB% (DRB in the model with the combined dataset, so rebounding in general), AST%, and TOV%, meaning those may be the more meaningful predictors of a change from regular season to postseason."
   ]
  },
  {
   "cell_type": "code",
   "execution_count": 35,
   "id": "4eace0a4",
   "metadata": {},
   "outputs": [
    {
     "name": "stdout",
     "output_type": "stream",
     "text": [
      "Selected feature: WS/48\n",
      "                            OLS Regression Results                            \n",
      "==============================================================================\n",
      "Dep. Variable:             WS/48_diff   R-squared:                       0.043\n",
      "Model:                            OLS   Adj. R-squared:                  0.040\n",
      "Method:                 Least Squares   F-statistic:                     13.35\n",
      "Date:                Tue, 04 Jul 2023   Prob (F-statistic):           0.000306\n",
      "Time:                        20:04:54   Log-Likelihood:                 381.47\n",
      "No. Observations:                 296   AIC:                            -758.9\n",
      "Df Residuals:                     294   BIC:                            -751.6\n",
      "Df Model:                           1                                         \n",
      "Covariance Type:            nonrobust                                         \n",
      "==============================================================================\n",
      "                 coef    std err          t      P>|t|      [0.025      0.975]\n",
      "------------------------------------------------------------------------------\n",
      "const          0.1699      0.059      2.902      0.004       0.055       0.285\n",
      "TS%           -0.3638      0.100     -3.653      0.000      -0.560      -0.168\n",
      "==============================================================================\n",
      "Omnibus:                       46.047   Durbin-Watson:                   1.994\n",
      "Prob(Omnibus):                  0.000   Jarque-Bera (JB):               95.396\n",
      "Skew:                          -0.801   Prob(JB):                     1.93e-21\n",
      "Kurtosis:                       5.273   Cond. No.                         34.4\n",
      "==============================================================================\n",
      "\n",
      "Notes:\n",
      "[1] Standard Errors assume that the covariance matrix of the errors is correctly specified.\n",
      "-------------------------\n",
      "Selected feature: DWS\n",
      "                            OLS Regression Results                            \n",
      "==============================================================================\n",
      "Dep. Variable:             WS/48_diff   R-squared:                       0.059\n",
      "Model:                            OLS   Adj. R-squared:                  0.053\n",
      "Method:                 Least Squares   F-statistic:                     9.205\n",
      "Date:                Tue, 04 Jul 2023   Prob (F-statistic):           0.000133\n",
      "Time:                        20:04:54   Log-Likelihood:                 383.91\n",
      "No. Observations:                 296   AIC:                            -761.8\n",
      "Df Residuals:                     293   BIC:                            -750.8\n",
      "Df Model:                           2                                         \n",
      "Covariance Type:            nonrobust                                         \n",
      "==============================================================================\n",
      "                 coef    std err          t      P>|t|      [0.025      0.975]\n",
      "------------------------------------------------------------------------------\n",
      "const          0.0709      0.073      0.965      0.335      -0.074       0.215\n",
      "WS/48         -0.2184      0.099     -2.210      0.028      -0.413      -0.024\n",
      "TS%           -0.1424      0.141     -1.012      0.312      -0.419       0.135\n",
      "==============================================================================\n",
      "Omnibus:                       39.186   Durbin-Watson:                   1.988\n",
      "Prob(Omnibus):                  0.000   Jarque-Bera (JB):               75.921\n",
      "Skew:                          -0.713   Prob(JB):                     3.27e-17\n",
      "Kurtosis:                       5.030   Cond. No.                         53.0\n",
      "==============================================================================\n",
      "\n",
      "Notes:\n",
      "[1] Standard Errors assume that the covariance matrix of the errors is correctly specified.\n",
      "-------------------------\n",
      "Selected feature: ORB%\n",
      "                            OLS Regression Results                            \n",
      "==============================================================================\n",
      "Dep. Variable:             WS/48_diff   R-squared:                       0.065\n",
      "Model:                            OLS   Adj. R-squared:                  0.056\n",
      "Method:                 Least Squares   F-statistic:                     6.802\n",
      "Date:                Tue, 04 Jul 2023   Prob (F-statistic):           0.000190\n",
      "Time:                        20:04:54   Log-Likelihood:                 384.89\n",
      "No. Observations:                 296   AIC:                            -761.8\n",
      "Df Residuals:                     292   BIC:                            -747.0\n",
      "Df Model:                           3                                         \n",
      "Covariance Type:            nonrobust                                         \n",
      "==============================================================================\n",
      "                 coef    std err          t      P>|t|      [0.025      0.975]\n",
      "------------------------------------------------------------------------------\n",
      "const          0.0365      0.077      0.473      0.637      -0.116       0.189\n",
      "WS/48         -0.3047      0.117     -2.615      0.009      -0.534      -0.075\n",
      "DWS            0.0062      0.004      1.392      0.165      -0.003       0.015\n",
      "TS%           -0.0895      0.146     -0.615      0.539      -0.376       0.197\n",
      "==============================================================================\n",
      "Omnibus:                       36.448   Durbin-Watson:                   1.989\n",
      "Prob(Omnibus):                  0.000   Jarque-Bera (JB):               71.275\n",
      "Skew:                          -0.664   Prob(JB):                     3.33e-16\n",
      "Kurtosis:                       5.004   Cond. No.                         142.\n",
      "==============================================================================\n",
      "\n",
      "Notes:\n",
      "[1] Standard Errors assume that the covariance matrix of the errors is correctly specified.\n",
      "-------------------------\n",
      "Selected feature: USG%\n",
      "                            OLS Regression Results                            \n",
      "==============================================================================\n",
      "Dep. Variable:             WS/48_diff   R-squared:                       0.071\n",
      "Model:                            OLS   Adj. R-squared:                  0.059\n",
      "Method:                 Least Squares   F-statistic:                     5.585\n",
      "Date:                Tue, 04 Jul 2023   Prob (F-statistic):           0.000241\n",
      "Time:                        20:04:55   Log-Likelihood:                 385.84\n",
      "No. Observations:                 296   AIC:                            -761.7\n",
      "Df Residuals:                     291   BIC:                            -743.2\n",
      "Df Model:                           4                                         \n",
      "Covariance Type:            nonrobust                                         \n",
      "==============================================================================\n",
      "                 coef    std err          t      P>|t|      [0.025      0.975]\n",
      "------------------------------------------------------------------------------\n",
      "const          0.0165      0.079      0.209      0.834      -0.138       0.171\n",
      "WS/48         -0.2854      0.117     -2.435      0.015      -0.516      -0.055\n",
      "DWS            0.0085      0.005      1.788      0.075      -0.001       0.018\n",
      "ORB%          -0.0021      0.002     -1.368      0.172      -0.005       0.001\n",
      "TS%           -0.0550      0.148     -0.373      0.710      -0.345       0.235\n",
      "==============================================================================\n",
      "Omnibus:                       37.835   Durbin-Watson:                   2.006\n",
      "Prob(Omnibus):                  0.000   Jarque-Bera (JB):               74.676\n",
      "Skew:                          -0.684   Prob(JB):                     6.08e-17\n",
      "Kurtosis:                       5.046   Cond. No.                         281.\n",
      "==============================================================================\n",
      "\n",
      "Notes:\n",
      "[1] Standard Errors assume that the covariance matrix of the errors is correctly specified.\n",
      "-------------------------\n",
      "                            OLS Regression Results                            \n",
      "==============================================================================\n",
      "Dep. Variable:             WS/48_diff   R-squared:                       0.076\n",
      "Model:                            OLS   Adj. R-squared:                  0.063\n",
      "Method:                 Least Squares   F-statistic:                     5.993\n",
      "Date:                Tue, 04 Jul 2023   Prob (F-statistic):           0.000120\n",
      "Time:                        20:04:55   Log-Likelihood:                 386.61\n",
      "No. Observations:                 296   AIC:                            -763.2\n",
      "Df Residuals:                     291   BIC:                            -744.8\n",
      "Df Model:                           4                                         \n",
      "Covariance Type:            nonrobust                                         \n",
      "==============================================================================\n",
      "                 coef    std err          t      P>|t|      [0.025      0.975]\n",
      "------------------------------------------------------------------------------\n",
      "const          0.0029      0.017      0.173      0.863      -0.030       0.036\n",
      "WS/48         -0.2577      0.096     -2.677      0.008      -0.447      -0.068\n",
      "DWS            0.0091      0.005      2.019      0.044       0.000       0.018\n",
      "ORB%          -0.0029      0.002     -1.799      0.073      -0.006       0.000\n",
      "USG%          -0.0009      0.001     -1.287      0.199      -0.002       0.000\n",
      "==============================================================================\n",
      "Omnibus:                       32.249   Durbin-Watson:                   2.000\n",
      "Prob(Omnibus):                  0.000   Jarque-Bera (JB):               63.462\n",
      "Skew:                          -0.590   Prob(JB):                     1.66e-14\n",
      "Kurtosis:                       4.938   Cond. No.                         624.\n",
      "==============================================================================\n",
      "\n",
      "Notes:\n",
      "[1] Standard Errors assume that the covariance matrix of the errors is correctly specified.\n"
     ]
    }
   ],
   "source": [
    "# Create an empty list to store selected features\n",
    "selected_features = []\n",
    "\n",
    "# Set the maximum number of features to select\n",
    "max_features = 4\n",
    "\n",
    "# Perform forward selection\n",
    "for _ in range(max_features):\n",
    "    remaining_features = list(set(X.columns) - set(selected_features))\n",
    "    best_pvalue = 1  # Initialize with a high p-value\n",
    "\n",
    "    # Iterate over remaining features to find the one with the lowest p-value\n",
    "    for feature in remaining_features:\n",
    "        X_temp = X[selected_features + [feature]]\n",
    "        X_temp = sm.add_constant(X_temp)  # Add constant term for intercept\n",
    "        model = sm.OLS(y, X_temp).fit()\n",
    "        pvalue = model.pvalues[feature]\n",
    "\n",
    "        # Update the best p-value and selected feature\n",
    "        if pvalue < best_pvalue:\n",
    "            best_pvalue = pvalue\n",
    "            best_feature = feature\n",
    "\n",
    "    # Add the best feature to the selected features list\n",
    "    selected_features.append(best_feature)\n",
    "    \n",
    "    # Print information about the current iteration\n",
    "    print(f\"Selected feature: {best_feature}\")\n",
    "    print(model.summary())\n",
    "    print(\"-------------------------\")\n",
    "\n",
    "# Final model with selected features\n",
    "final_X = X[selected_features]\n",
    "final_X = sm.add_constant(final_X)  # Add constant term for intercept\n",
    "final_model = sm.OLS(y, final_X).fit()\n",
    "print(final_model.summary())"
   ]
  },
  {
   "cell_type": "markdown",
   "id": "a29a0550",
   "metadata": {},
   "source": [
    "Forward selection gives a less effective model with the only statistically significant predictors being win share related metrics. Interestingly, ORB is again in the top 4, as well as the USG% which we explored in part 2."
   ]
  },
  {
   "cell_type": "markdown",
   "id": "a68bad59",
   "metadata": {},
   "source": [
    "### Retrying Linear/Ridge Regression with New Train/Test Split"
   ]
  },
  {
   "cell_type": "markdown",
   "id": "6183a435",
   "metadata": {},
   "source": [
    "***Trying out a train test split in which the years prior are the training set and 2023 is the test set. We will also try ridge regression.***"
   ]
  },
  {
   "cell_type": "code",
   "execution_count": 36,
   "id": "0bfc4677",
   "metadata": {},
   "outputs": [],
   "source": [
    "train = best_players[~(best_players[\"Year\"] == 2023)]\n",
    "test = best_players[best_players[\"Year\"] == 2023]"
   ]
  },
  {
   "cell_type": "code",
   "execution_count": 37,
   "id": "3a45610d",
   "metadata": {},
   "outputs": [],
   "source": [
    "from sklearn.linear_model import Ridge\n",
    "reg = Ridge(alpha=.1)"
   ]
  },
  {
   "cell_type": "code",
   "execution_count": 39,
   "id": "360c4eac",
   "metadata": {},
   "outputs": [],
   "source": [
    "predictors = ['Age_x', 'G', 'MP', 'TS%', '3PAr', 'FTr',\n",
    "       'ORB%', 'DRB%', 'AST%', 'STL%', 'BLK%', 'TOV%', 'USG%', 'OWS',\n",
    "       'DWS', 'WS/48', 'MPG', 'Pos_x_PF', 'Pos_x_PG', 'Pos_x_SF',\n",
    "       'Pos_x_SG']\n",
    "\n",
    "target = ['WS/48_diff']"
   ]
  },
  {
   "cell_type": "code",
   "execution_count": 40,
   "id": "f5ede7a7",
   "metadata": {},
   "outputs": [
    {
     "data": {
      "text/html": [
       "<style>#sk-container-id-1 {color: black;background-color: white;}#sk-container-id-1 pre{padding: 0;}#sk-container-id-1 div.sk-toggleable {background-color: white;}#sk-container-id-1 label.sk-toggleable__label {cursor: pointer;display: block;width: 100%;margin-bottom: 0;padding: 0.3em;box-sizing: border-box;text-align: center;}#sk-container-id-1 label.sk-toggleable__label-arrow:before {content: \"▸\";float: left;margin-right: 0.25em;color: #696969;}#sk-container-id-1 label.sk-toggleable__label-arrow:hover:before {color: black;}#sk-container-id-1 div.sk-estimator:hover label.sk-toggleable__label-arrow:before {color: black;}#sk-container-id-1 div.sk-toggleable__content {max-height: 0;max-width: 0;overflow: hidden;text-align: left;background-color: #f0f8ff;}#sk-container-id-1 div.sk-toggleable__content pre {margin: 0.2em;color: black;border-radius: 0.25em;background-color: #f0f8ff;}#sk-container-id-1 input.sk-toggleable__control:checked~div.sk-toggleable__content {max-height: 200px;max-width: 100%;overflow: auto;}#sk-container-id-1 input.sk-toggleable__control:checked~label.sk-toggleable__label-arrow:before {content: \"▾\";}#sk-container-id-1 div.sk-estimator input.sk-toggleable__control:checked~label.sk-toggleable__label {background-color: #d4ebff;}#sk-container-id-1 div.sk-label input.sk-toggleable__control:checked~label.sk-toggleable__label {background-color: #d4ebff;}#sk-container-id-1 input.sk-hidden--visually {border: 0;clip: rect(1px 1px 1px 1px);clip: rect(1px, 1px, 1px, 1px);height: 1px;margin: -1px;overflow: hidden;padding: 0;position: absolute;width: 1px;}#sk-container-id-1 div.sk-estimator {font-family: monospace;background-color: #f0f8ff;border: 1px dotted black;border-radius: 0.25em;box-sizing: border-box;margin-bottom: 0.5em;}#sk-container-id-1 div.sk-estimator:hover {background-color: #d4ebff;}#sk-container-id-1 div.sk-parallel-item::after {content: \"\";width: 100%;border-bottom: 1px solid gray;flex-grow: 1;}#sk-container-id-1 div.sk-label:hover label.sk-toggleable__label {background-color: #d4ebff;}#sk-container-id-1 div.sk-serial::before {content: \"\";position: absolute;border-left: 1px solid gray;box-sizing: border-box;top: 0;bottom: 0;left: 50%;z-index: 0;}#sk-container-id-1 div.sk-serial {display: flex;flex-direction: column;align-items: center;background-color: white;padding-right: 0.2em;padding-left: 0.2em;position: relative;}#sk-container-id-1 div.sk-item {position: relative;z-index: 1;}#sk-container-id-1 div.sk-parallel {display: flex;align-items: stretch;justify-content: center;background-color: white;position: relative;}#sk-container-id-1 div.sk-item::before, #sk-container-id-1 div.sk-parallel-item::before {content: \"\";position: absolute;border-left: 1px solid gray;box-sizing: border-box;top: 0;bottom: 0;left: 50%;z-index: -1;}#sk-container-id-1 div.sk-parallel-item {display: flex;flex-direction: column;z-index: 1;position: relative;background-color: white;}#sk-container-id-1 div.sk-parallel-item:first-child::after {align-self: flex-end;width: 50%;}#sk-container-id-1 div.sk-parallel-item:last-child::after {align-self: flex-start;width: 50%;}#sk-container-id-1 div.sk-parallel-item:only-child::after {width: 0;}#sk-container-id-1 div.sk-dashed-wrapped {border: 1px dashed gray;margin: 0 0.4em 0.5em 0.4em;box-sizing: border-box;padding-bottom: 0.4em;background-color: white;}#sk-container-id-1 div.sk-label label {font-family: monospace;font-weight: bold;display: inline-block;line-height: 1.2em;}#sk-container-id-1 div.sk-label-container {text-align: center;}#sk-container-id-1 div.sk-container {/* jupyter's `normalize.less` sets `[hidden] { display: none; }` but bootstrap.min.css set `[hidden] { display: none !important; }` so we also need the `!important` here to be able to override the default hidden behavior on the sphinx rendered scikit-learn.org. See: https://github.com/scikit-learn/scikit-learn/issues/21755 */display: inline-block !important;position: relative;}#sk-container-id-1 div.sk-text-repr-fallback {display: none;}</style><div id=\"sk-container-id-1\" class=\"sk-top-container\"><div class=\"sk-text-repr-fallback\"><pre>Ridge(alpha=0.1)</pre><b>In a Jupyter environment, please rerun this cell to show the HTML representation or trust the notebook. <br />On GitHub, the HTML representation is unable to render, please try loading this page with nbviewer.org.</b></div><div class=\"sk-container\" hidden><div class=\"sk-item\"><div class=\"sk-estimator sk-toggleable\"><input class=\"sk-toggleable__control sk-hidden--visually\" id=\"sk-estimator-id-1\" type=\"checkbox\" checked><label for=\"sk-estimator-id-1\" class=\"sk-toggleable__label sk-toggleable__label-arrow\">Ridge</label><div class=\"sk-toggleable__content\"><pre>Ridge(alpha=0.1)</pre></div></div></div></div></div>"
      ],
      "text/plain": [
       "Ridge(alpha=0.1)"
      ]
     },
     "execution_count": 40,
     "metadata": {},
     "output_type": "execute_result"
    }
   ],
   "source": [
    "reg.fit(train[predictors],train[target])"
   ]
  },
  {
   "cell_type": "code",
   "execution_count": 41,
   "id": "36b6e9c6",
   "metadata": {},
   "outputs": [],
   "source": [
    "predictions = reg.predict(test[predictors])\n",
    "predictions = pd.DataFrame(predictions, columns=[\"predictions\"], index=test.index)"
   ]
  },
  {
   "cell_type": "code",
   "execution_count": 42,
   "id": "6814abc9",
   "metadata": {},
   "outputs": [],
   "source": [
    "combination = pd.concat([test[[\"Player\", \"WS/48_diff\"]], predictions], axis=1)"
   ]
  },
  {
   "cell_type": "code",
   "execution_count": 44,
   "id": "21a2b129",
   "metadata": {},
   "outputs": [
    {
     "name": "stdout",
     "output_type": "stream",
     "text": [
      "MAE: 0.05169896622927992\n",
      "MSE: 0.0040802489273767785\n",
      "RMSE: 0.06387682621559072\n",
      "R-squared:  0.08693237229038742\n",
      "R:  0.29484296208386496\n"
     ]
    }
   ],
   "source": [
    "print('MAE:', metrics.mean_absolute_error(combination[\"WS/48_diff\"], combination[\"predictions\"]))\n",
    "print('MSE:', metrics.mean_squared_error(combination[\"WS/48_diff\"], combination[\"predictions\"]))\n",
    "print('RMSE:', np.sqrt(metrics.mean_squared_error(combination[\"WS/48_diff\"], combination[\"predictions\"])))\n",
    "print('R-squared: ', metrics.explained_variance_score(combination[\"WS/48_diff\"], combination[\"predictions\"]))\n",
    "print('R: ', np.sqrt(metrics.explained_variance_score(combination[\"WS/48_diff\"], combination[\"predictions\"])))"
   ]
  },
  {
   "cell_type": "markdown",
   "id": "a454234c",
   "metadata": {},
   "source": [
    "The highest R squared thus far!!"
   ]
  },
  {
   "cell_type": "code",
   "execution_count": 50,
   "id": "ffe7796f",
   "metadata": {},
   "outputs": [],
   "source": [
    "lm = LinearRegression()"
   ]
  },
  {
   "cell_type": "code",
   "execution_count": 51,
   "id": "e398a52a",
   "metadata": {},
   "outputs": [
    {
     "data": {
      "text/html": [
       "<style>#sk-container-id-3 {color: black;background-color: white;}#sk-container-id-3 pre{padding: 0;}#sk-container-id-3 div.sk-toggleable {background-color: white;}#sk-container-id-3 label.sk-toggleable__label {cursor: pointer;display: block;width: 100%;margin-bottom: 0;padding: 0.3em;box-sizing: border-box;text-align: center;}#sk-container-id-3 label.sk-toggleable__label-arrow:before {content: \"▸\";float: left;margin-right: 0.25em;color: #696969;}#sk-container-id-3 label.sk-toggleable__label-arrow:hover:before {color: black;}#sk-container-id-3 div.sk-estimator:hover label.sk-toggleable__label-arrow:before {color: black;}#sk-container-id-3 div.sk-toggleable__content {max-height: 0;max-width: 0;overflow: hidden;text-align: left;background-color: #f0f8ff;}#sk-container-id-3 div.sk-toggleable__content pre {margin: 0.2em;color: black;border-radius: 0.25em;background-color: #f0f8ff;}#sk-container-id-3 input.sk-toggleable__control:checked~div.sk-toggleable__content {max-height: 200px;max-width: 100%;overflow: auto;}#sk-container-id-3 input.sk-toggleable__control:checked~label.sk-toggleable__label-arrow:before {content: \"▾\";}#sk-container-id-3 div.sk-estimator input.sk-toggleable__control:checked~label.sk-toggleable__label {background-color: #d4ebff;}#sk-container-id-3 div.sk-label input.sk-toggleable__control:checked~label.sk-toggleable__label {background-color: #d4ebff;}#sk-container-id-3 input.sk-hidden--visually {border: 0;clip: rect(1px 1px 1px 1px);clip: rect(1px, 1px, 1px, 1px);height: 1px;margin: -1px;overflow: hidden;padding: 0;position: absolute;width: 1px;}#sk-container-id-3 div.sk-estimator {font-family: monospace;background-color: #f0f8ff;border: 1px dotted black;border-radius: 0.25em;box-sizing: border-box;margin-bottom: 0.5em;}#sk-container-id-3 div.sk-estimator:hover {background-color: #d4ebff;}#sk-container-id-3 div.sk-parallel-item::after {content: \"\";width: 100%;border-bottom: 1px solid gray;flex-grow: 1;}#sk-container-id-3 div.sk-label:hover label.sk-toggleable__label {background-color: #d4ebff;}#sk-container-id-3 div.sk-serial::before {content: \"\";position: absolute;border-left: 1px solid gray;box-sizing: border-box;top: 0;bottom: 0;left: 50%;z-index: 0;}#sk-container-id-3 div.sk-serial {display: flex;flex-direction: column;align-items: center;background-color: white;padding-right: 0.2em;padding-left: 0.2em;position: relative;}#sk-container-id-3 div.sk-item {position: relative;z-index: 1;}#sk-container-id-3 div.sk-parallel {display: flex;align-items: stretch;justify-content: center;background-color: white;position: relative;}#sk-container-id-3 div.sk-item::before, #sk-container-id-3 div.sk-parallel-item::before {content: \"\";position: absolute;border-left: 1px solid gray;box-sizing: border-box;top: 0;bottom: 0;left: 50%;z-index: -1;}#sk-container-id-3 div.sk-parallel-item {display: flex;flex-direction: column;z-index: 1;position: relative;background-color: white;}#sk-container-id-3 div.sk-parallel-item:first-child::after {align-self: flex-end;width: 50%;}#sk-container-id-3 div.sk-parallel-item:last-child::after {align-self: flex-start;width: 50%;}#sk-container-id-3 div.sk-parallel-item:only-child::after {width: 0;}#sk-container-id-3 div.sk-dashed-wrapped {border: 1px dashed gray;margin: 0 0.4em 0.5em 0.4em;box-sizing: border-box;padding-bottom: 0.4em;background-color: white;}#sk-container-id-3 div.sk-label label {font-family: monospace;font-weight: bold;display: inline-block;line-height: 1.2em;}#sk-container-id-3 div.sk-label-container {text-align: center;}#sk-container-id-3 div.sk-container {/* jupyter's `normalize.less` sets `[hidden] { display: none; }` but bootstrap.min.css set `[hidden] { display: none !important; }` so we also need the `!important` here to be able to override the default hidden behavior on the sphinx rendered scikit-learn.org. See: https://github.com/scikit-learn/scikit-learn/issues/21755 */display: inline-block !important;position: relative;}#sk-container-id-3 div.sk-text-repr-fallback {display: none;}</style><div id=\"sk-container-id-3\" class=\"sk-top-container\"><div class=\"sk-text-repr-fallback\"><pre>LinearRegression()</pre><b>In a Jupyter environment, please rerun this cell to show the HTML representation or trust the notebook. <br />On GitHub, the HTML representation is unable to render, please try loading this page with nbviewer.org.</b></div><div class=\"sk-container\" hidden><div class=\"sk-item\"><div class=\"sk-estimator sk-toggleable\"><input class=\"sk-toggleable__control sk-hidden--visually\" id=\"sk-estimator-id-3\" type=\"checkbox\" checked><label for=\"sk-estimator-id-3\" class=\"sk-toggleable__label sk-toggleable__label-arrow\">LinearRegression</label><div class=\"sk-toggleable__content\"><pre>LinearRegression()</pre></div></div></div></div></div>"
      ],
      "text/plain": [
       "LinearRegression()"
      ]
     },
     "execution_count": 51,
     "metadata": {},
     "output_type": "execute_result"
    }
   ],
   "source": [
    "lm.fit(train[predictors],train[target])"
   ]
  },
  {
   "cell_type": "code",
   "execution_count": 52,
   "id": "e09244be",
   "metadata": {},
   "outputs": [],
   "source": [
    "predictions = lm.predict(test[predictors])\n",
    "predictions = pd.DataFrame(predictions, columns=[\"predictions\"], index=test.index)"
   ]
  },
  {
   "cell_type": "code",
   "execution_count": 53,
   "id": "e1d9cf60",
   "metadata": {},
   "outputs": [],
   "source": [
    "combination = pd.concat([test[[\"Player\", \"WS/48_diff\"]], predictions], axis=1)"
   ]
  },
  {
   "cell_type": "code",
   "execution_count": 54,
   "id": "16e050a2",
   "metadata": {},
   "outputs": [
    {
     "name": "stdout",
     "output_type": "stream",
     "text": [
      "MAE: 0.05374875933840436\n",
      "MSE: 0.004388679039904297\n",
      "RMSE: 0.06624710589832809\n",
      "R-squared:  0.06844680945481774\n",
      "R:  0.2616234115189574\n"
     ]
    }
   ],
   "source": [
    "print('MAE:', metrics.mean_absolute_error(combination[\"WS/48_diff\"], combination[\"predictions\"]))\n",
    "print('MSE:', metrics.mean_squared_error(combination[\"WS/48_diff\"], combination[\"predictions\"]))\n",
    "print('RMSE:', np.sqrt(metrics.mean_squared_error(combination[\"WS/48_diff\"], combination[\"predictions\"])))\n",
    "print('R-squared: ', metrics.explained_variance_score(combination[\"WS/48_diff\"], combination[\"predictions\"]))\n",
    "print('R: ', np.sqrt(metrics.explained_variance_score(combination[\"WS/48_diff\"], combination[\"predictions\"])))"
   ]
  },
  {
   "cell_type": "markdown",
   "id": "d55ebd57",
   "metadata": {},
   "source": [
    "In the above few lines of code, I tried both a ridge regression and a traditional linear regression model in which the training data was years 2019-2022, and the test data was 2023. The results were much better, with positive and interpretable R-squared and R values. In fact, the Ridge regression version has the best R-squared thus far, slightly beating out the backward selection model."
   ]
  },
  {
   "cell_type": "code",
   "execution_count": 60,
   "id": "7e215c2b",
   "metadata": {},
   "outputs": [
    {
     "name": "stdout",
     "output_type": "stream",
     "text": [
      "     Feature  Coefficient  Absolute Coefficient\n",
      "0        TS%    -0.210845              0.210845\n",
      "1       3PAr    -0.047031              0.047031\n",
      "2        FTr    -0.045202              0.045202\n",
      "3   Pos_x_PG     0.032237              0.032237\n",
      "4      WS/48    -0.016876              0.016876\n",
      "5   Pos_x_SG     0.011989              0.011989\n",
      "6        MPG     0.009015              0.009015\n",
      "7        DWS     0.008574              0.008574\n",
      "8       ORB%    -0.006495              0.006495\n",
      "9   Pos_x_PF     0.005220              0.005220\n",
      "10         G     0.003814              0.003814\n",
      "11      TOV%     0.003481              0.003481\n",
      "12      BLK%     0.003145              0.003145\n",
      "13      AST%    -0.002036              0.002036\n",
      "14      STL%    -0.001581              0.001581\n",
      "15       OWS     0.001439              0.001439\n",
      "16  Pos_x_SF     0.001224              0.001224\n",
      "17      USG%    -0.000596              0.000596\n",
      "18      DRB%     0.000463              0.000463\n",
      "19     Age_x    -0.000381              0.000381\n",
      "20        MP    -0.000132              0.000132\n"
     ]
    }
   ],
   "source": [
    "# Get the coefficients and corresponding feature names\n",
    "reg_coefs = reg.coef_\n",
    "feature_names = train[predictors].columns\n",
    "\n",
    "# Flatten the reg_coefs array\n",
    "reg_coefs_flat = reg_coefs.flatten()\n",
    "\n",
    "# Create a DataFrame to store the coefficients and feature names\n",
    "coefs_df = pd.DataFrame({'Feature': feature_names, 'Coefficient': reg_coefs_flat})\n",
    "\n",
    "# Sort the DataFrame by absolute coefficient values\n",
    "coefs_df['Absolute Coefficient'] = coefs_df['Coefficient'].abs()\n",
    "coefs_df = coefs_df.sort_values('Absolute Coefficient', ascending=False).reset_index(drop=True)\n",
    "\n",
    "# Print the feature importance\n",
    "print(coefs_df)"
   ]
  },
  {
   "cell_type": "code",
   "execution_count": 62,
   "id": "cf7f2e06",
   "metadata": {},
   "outputs": [
    {
     "data": {
      "text/plain": [
       "TS%         0.020081\n",
       "AST%        0.028333\n",
       "ORB%        0.029386\n",
       "MPG         0.044229\n",
       "TOV%        0.068194\n",
       "G           0.076090\n",
       "MP          0.105356\n",
       "3PAr        0.185259\n",
       "Pos_x_PG    0.198419\n",
       "FTr         0.351764\n",
       "USG%        0.501162\n",
       "Pos_x_SG    0.563443\n",
       "STL%        0.582643\n",
       "DWS         0.592682\n",
       "DRB%        0.660703\n",
       "OWS         0.683875\n",
       "BLK%        0.685137\n",
       "WS/48       0.696991\n",
       "Age_x       0.707919\n",
       "Pos_x_PF    0.735209\n",
       "Pos_x_SF    0.819082\n",
       "dtype: float64"
      ]
     },
     "execution_count": 62,
     "metadata": {},
     "output_type": "execute_result"
    }
   ],
   "source": [
    "results = sm.OLS(train[target],train[predictors]).fit()\n",
    "p_value = results.pvalues[train[predictors].columns]\n",
    "\n",
    "p_value.sort_values()"
   ]
  },
  {
   "cell_type": "markdown",
   "id": "08563d63",
   "metadata": {},
   "source": [
    "These coefficient p values are for the linear regression as they are not available for ridge. From the data looking at past years as training data and 2023 as test data, the statistically significant features are again TS%, AST%, ORB%, as well as MPG, with TOV% and games played being close to statistically significant."
   ]
  },
  {
   "cell_type": "code",
   "execution_count": null,
   "id": "6c0b5224",
   "metadata": {},
   "outputs": [],
   "source": []
  }
 ],
 "metadata": {
  "kernelspec": {
   "display_name": "Python 3 (ipykernel)",
   "language": "python",
   "name": "python3"
  },
  "language_info": {
   "codemirror_mode": {
    "name": "ipython",
    "version": 3
   },
   "file_extension": ".py",
   "mimetype": "text/x-python",
   "name": "python",
   "nbconvert_exporter": "python",
   "pygments_lexer": "ipython3",
   "version": "3.8.16"
  }
 },
 "nbformat": 4,
 "nbformat_minor": 5
}
